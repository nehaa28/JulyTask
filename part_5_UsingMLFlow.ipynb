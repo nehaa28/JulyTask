{
  "nbformat": 4,
  "nbformat_minor": 0,
  "metadata": {
    "colab": {
      "name": "part_5-UsingMLFlow",
      "provenance": [],
      "authorship_tag": "ABX9TyNHdoGJwTrYBkLJbPTY7qAl",
      "include_colab_link": true
    },
    "kernelspec": {
      "name": "python3",
      "display_name": "Python 3"
    },
    "language_info": {
      "name": "python"
    }
  },
  "cells": [
    {
      "cell_type": "markdown",
      "metadata": {
        "id": "view-in-github",
        "colab_type": "text"
      },
      "source": [
        "<a href=\"https://colab.research.google.com/github/nehaa28/JulyTask/blob/main/part_5_UsingMLFlow.ipynb\" target=\"_parent\"><img src=\"https://colab.research.google.com/assets/colab-badge.svg\" alt=\"Open In Colab\"/></a>"
      ]
    },
    {
      "cell_type": "markdown",
      "metadata": {
        "id": "z5dvV8uO4OZX"
      },
      "source": [
        "## Implementation of Activation functions and Weight initialization using MLFlow"
      ]
    },
    {
      "cell_type": "code",
      "metadata": {
        "colab": {
          "base_uri": "https://localhost:8080/"
        },
        "id": "XCrYuPSyxJ5U",
        "outputId": "d9e0722f-f1e2-483d-e7ed-653c28cb2289"
      },
      "source": [
        "!pip install mlflow -q\n",
        "!pip install tensorflow"
      ],
      "execution_count": 1,
      "outputs": [
        {
          "output_type": "stream",
          "text": [
            "Requirement already satisfied: tensorflow in /usr/local/lib/python3.7/dist-packages (2.5.0)\n",
            "Requirement already satisfied: six~=1.15.0 in /usr/local/lib/python3.7/dist-packages (from tensorflow) (1.15.0)\n",
            "Requirement already satisfied: google-pasta~=0.2 in /usr/local/lib/python3.7/dist-packages (from tensorflow) (0.2.0)\n",
            "Requirement already satisfied: keras-nightly~=2.5.0.dev in /usr/local/lib/python3.7/dist-packages (from tensorflow) (2.5.0.dev2021032900)\n",
            "Requirement already satisfied: wheel~=0.35 in /usr/local/lib/python3.7/dist-packages (from tensorflow) (0.36.2)\n",
            "Requirement already satisfied: gast==0.4.0 in /usr/local/lib/python3.7/dist-packages (from tensorflow) (0.4.0)\n",
            "Requirement already satisfied: termcolor~=1.1.0 in /usr/local/lib/python3.7/dist-packages (from tensorflow) (1.1.0)\n",
            "Requirement already satisfied: absl-py~=0.10 in /usr/local/lib/python3.7/dist-packages (from tensorflow) (0.12.0)\n",
            "Requirement already satisfied: tensorboard~=2.5 in /usr/local/lib/python3.7/dist-packages (from tensorflow) (2.5.0)\n",
            "Requirement already satisfied: typing-extensions~=3.7.4 in /usr/local/lib/python3.7/dist-packages (from tensorflow) (3.7.4.3)\n",
            "Requirement already satisfied: wrapt~=1.12.1 in /usr/local/lib/python3.7/dist-packages (from tensorflow) (1.12.1)\n",
            "Requirement already satisfied: tensorflow-estimator<2.6.0,>=2.5.0rc0 in /usr/local/lib/python3.7/dist-packages (from tensorflow) (2.5.0)\n",
            "Requirement already satisfied: protobuf>=3.9.2 in /usr/local/lib/python3.7/dist-packages (from tensorflow) (3.12.4)\n",
            "Requirement already satisfied: numpy~=1.19.2 in /usr/local/lib/python3.7/dist-packages (from tensorflow) (1.19.5)\n",
            "Requirement already satisfied: opt-einsum~=3.3.0 in /usr/local/lib/python3.7/dist-packages (from tensorflow) (3.3.0)\n",
            "Requirement already satisfied: h5py~=3.1.0 in /usr/local/lib/python3.7/dist-packages (from tensorflow) (3.1.0)\n",
            "Requirement already satisfied: keras-preprocessing~=1.1.2 in /usr/local/lib/python3.7/dist-packages (from tensorflow) (1.1.2)\n",
            "Requirement already satisfied: astunparse~=1.6.3 in /usr/local/lib/python3.7/dist-packages (from tensorflow) (1.6.3)\n",
            "Requirement already satisfied: grpcio~=1.34.0 in /usr/local/lib/python3.7/dist-packages (from tensorflow) (1.34.1)\n",
            "Requirement already satisfied: flatbuffers~=1.12.0 in /usr/local/lib/python3.7/dist-packages (from tensorflow) (1.12)\n",
            "Requirement already satisfied: google-auth<2,>=1.6.3 in /usr/local/lib/python3.7/dist-packages (from tensorboard~=2.5->tensorflow) (1.31.0)\n",
            "Requirement already satisfied: tensorboard-plugin-wit>=1.6.0 in /usr/local/lib/python3.7/dist-packages (from tensorboard~=2.5->tensorflow) (1.8.0)\n",
            "Requirement already satisfied: markdown>=2.6.8 in /usr/local/lib/python3.7/dist-packages (from tensorboard~=2.5->tensorflow) (3.3.4)\n",
            "Requirement already satisfied: tensorboard-data-server<0.7.0,>=0.6.0 in /usr/local/lib/python3.7/dist-packages (from tensorboard~=2.5->tensorflow) (0.6.1)\n",
            "Requirement already satisfied: setuptools>=41.0.0 in /usr/local/lib/python3.7/dist-packages (from tensorboard~=2.5->tensorflow) (57.0.0)\n",
            "Requirement already satisfied: google-auth-oauthlib<0.5,>=0.4.1 in /usr/local/lib/python3.7/dist-packages (from tensorboard~=2.5->tensorflow) (0.4.4)\n",
            "Requirement already satisfied: werkzeug>=0.11.15 in /usr/local/lib/python3.7/dist-packages (from tensorboard~=2.5->tensorflow) (1.0.1)\n",
            "Requirement already satisfied: requests<3,>=2.21.0 in /usr/local/lib/python3.7/dist-packages (from tensorboard~=2.5->tensorflow) (2.23.0)\n",
            "Requirement already satisfied: cached-property; python_version < \"3.8\" in /usr/local/lib/python3.7/dist-packages (from h5py~=3.1.0->tensorflow) (1.5.2)\n",
            "Requirement already satisfied: rsa<5,>=3.1.4; python_version >= \"3.6\" in /usr/local/lib/python3.7/dist-packages (from google-auth<2,>=1.6.3->tensorboard~=2.5->tensorflow) (4.7.2)\n",
            "Requirement already satisfied: pyasn1-modules>=0.2.1 in /usr/local/lib/python3.7/dist-packages (from google-auth<2,>=1.6.3->tensorboard~=2.5->tensorflow) (0.2.8)\n",
            "Requirement already satisfied: cachetools<5.0,>=2.0.0 in /usr/local/lib/python3.7/dist-packages (from google-auth<2,>=1.6.3->tensorboard~=2.5->tensorflow) (4.2.2)\n",
            "Requirement already satisfied: importlib-metadata; python_version < \"3.8\" in /usr/local/lib/python3.7/dist-packages (from markdown>=2.6.8->tensorboard~=2.5->tensorflow) (4.5.0)\n",
            "Requirement already satisfied: requests-oauthlib>=0.7.0 in /usr/local/lib/python3.7/dist-packages (from google-auth-oauthlib<0.5,>=0.4.1->tensorboard~=2.5->tensorflow) (1.3.0)\n",
            "Requirement already satisfied: urllib3!=1.25.0,!=1.25.1,<1.26,>=1.21.1 in /usr/local/lib/python3.7/dist-packages (from requests<3,>=2.21.0->tensorboard~=2.5->tensorflow) (1.24.3)\n",
            "Requirement already satisfied: certifi>=2017.4.17 in /usr/local/lib/python3.7/dist-packages (from requests<3,>=2.21.0->tensorboard~=2.5->tensorflow) (2021.5.30)\n",
            "Requirement already satisfied: chardet<4,>=3.0.2 in /usr/local/lib/python3.7/dist-packages (from requests<3,>=2.21.0->tensorboard~=2.5->tensorflow) (3.0.4)\n",
            "Requirement already satisfied: idna<3,>=2.5 in /usr/local/lib/python3.7/dist-packages (from requests<3,>=2.21.0->tensorboard~=2.5->tensorflow) (2.10)\n",
            "Requirement already satisfied: pyasn1>=0.1.3 in /usr/local/lib/python3.7/dist-packages (from rsa<5,>=3.1.4; python_version >= \"3.6\"->google-auth<2,>=1.6.3->tensorboard~=2.5->tensorflow) (0.4.8)\n",
            "Requirement already satisfied: zipp>=0.5 in /usr/local/lib/python3.7/dist-packages (from importlib-metadata; python_version < \"3.8\"->markdown>=2.6.8->tensorboard~=2.5->tensorflow) (3.4.1)\n",
            "Requirement already satisfied: oauthlib>=3.0.0 in /usr/local/lib/python3.7/dist-packages (from requests-oauthlib>=0.7.0->google-auth-oauthlib<0.5,>=0.4.1->tensorboard~=2.5->tensorflow) (3.1.1)\n"
          ],
          "name": "stdout"
        }
      ]
    },
    {
      "cell_type": "code",
      "metadata": {
        "colab": {
          "base_uri": "https://localhost:8080/"
        },
        "id": "w6W4oPUaxKoq",
        "outputId": "00e6e986-ec59-4f0f-fcef-154e0f7a3743"
      },
      "source": [
        "# TensorFlow and tf.keras\n",
        "import tensorflow as tf\n",
        "\n",
        "# Helper libraries\n",
        "import numpy as np\n",
        "from tensorflow.keras import initializers\n",
        "from tensorflow.python.keras import activations\n",
        "\n",
        "print(tf.__version__)\n",
        "\n",
        "# downloading fashion_mnist data\n",
        "fashion_mnist = tf.keras.datasets.fashion_mnist\n",
        "\n",
        "(train_images, train_labels), (test_images, test_labels) = fashion_mnist.load_data()\n",
        "\n",
        "class_names = ['T-shirt/top', 'Trouser', 'Pullover', 'Dress', 'Coat',\n",
        "               'Sandal', 'Shirt', 'Sneaker', 'Bag', 'Ankle boot']\n",
        "\n",
        "train_images = train_images / 255.0\n",
        "\n",
        "test_images = test_images / 255.0              \n",
        "\n",
        "\n",
        "import mlflow.tensorflow\n",
        "mlflow.tensorflow.autolog()"
      ],
      "execution_count": 2,
      "outputs": [
        {
          "output_type": "stream",
          "text": [
            "2.5.0\n"
          ],
          "name": "stdout"
        }
      ]
    },
    {
      "cell_type": "markdown",
      "metadata": {
        "id": "_wzOqznQxdTL"
      },
      "source": [
        "## ACTIVATION FUNCTIONS:"
      ]
    },
    {
      "cell_type": "code",
      "metadata": {
        "colab": {
          "base_uri": "https://localhost:8080/"
        },
        "id": "AR66CWrNxWVb",
        "outputId": "35abbb05-37d5-45bf-8b7c-658d668d2164"
      },
      "source": [
        "#RELU\n",
        "activation = tf.keras.activations.relu\n",
        "\n",
        "model = tf.keras.Sequential([\n",
        "tf.keras.layers.Flatten(input_shape=(28, 28)),\n",
        "tf.keras.layers.Dense(300, activation=activation),\n",
        "tf.keras.layers.Dense(10)\n",
        "])\n",
        "\n",
        "model.compile(optimizer='adam',loss=tf.keras.losses.SparseCategoricalCrossentropy(from_logits=True),metrics=['accuracy'])\n",
        "model.summary() # model summary\n",
        "\n",
        "with mlflow.start_run():\n",
        "    model.fit(train_images, train_labels, epochs=10)\n",
        "    test_loss, test_acc = model.evaluate(test_images,  test_labels, verbose=2)\n",
        "    print('test_loss', test_loss)\n",
        "    print('test_accuracy', test_acc)\n",
        "\n",
        "    mlflow.tensorflow.mlflow.log_metric('test_loss', test_loss)\n",
        "    mlflow.tensorflow.mlflow.log_metric('test_acc', test_acc)  \n",
        "    mlflow.tensorflow.mlflow.log_param('initializer',model.layers[1].kernel_initializer)\n",
        "    mlflow.tensorflow.mlflow.log_param('activation', activation)\n",
        "\n",
        "del model\n"
      ],
      "execution_count": 3,
      "outputs": [
        {
          "output_type": "stream",
          "text": [
            "Model: \"sequential\"\n",
            "_________________________________________________________________\n",
            "Layer (type)                 Output Shape              Param #   \n",
            "=================================================================\n",
            "flatten (Flatten)            (None, 784)               0         \n",
            "_________________________________________________________________\n",
            "dense (Dense)                (None, 300)               235500    \n",
            "_________________________________________________________________\n",
            "dense_1 (Dense)              (None, 10)                3010      \n",
            "=================================================================\n",
            "Total params: 238,510\n",
            "Trainable params: 238,510\n",
            "Non-trainable params: 0\n",
            "_________________________________________________________________\n",
            "Epoch 1/10\n",
            "   1/1875 [..............................] - ETA: 12:11 - loss: 2.4022 - accuracy: 0.1562WARNING:tensorflow:Callback method `on_train_batch_end` is slow compared to the batch time (batch time: 0.0032s vs `on_train_batch_end` time: 0.0039s). Check your callbacks.\n",
            "1875/1875 [==============================] - 7s 4ms/step - loss: 0.4787 - accuracy: 0.8290\n",
            "Epoch 2/10\n",
            "1875/1875 [==============================] - 6s 3ms/step - loss: 0.3628 - accuracy: 0.8668\n",
            "Epoch 3/10\n",
            "1875/1875 [==============================] - 6s 3ms/step - loss: 0.3237 - accuracy: 0.8813\n",
            "Epoch 4/10\n",
            "1875/1875 [==============================] - 6s 3ms/step - loss: 0.3003 - accuracy: 0.8889\n",
            "Epoch 5/10\n",
            "1875/1875 [==============================] - 5s 3ms/step - loss: 0.2846 - accuracy: 0.8946\n",
            "Epoch 6/10\n",
            "1875/1875 [==============================] - 5s 3ms/step - loss: 0.2682 - accuracy: 0.9006\n",
            "Epoch 7/10\n",
            "1875/1875 [==============================] - 5s 3ms/step - loss: 0.2546 - accuracy: 0.9047\n",
            "Epoch 8/10\n",
            "1875/1875 [==============================] - 5s 3ms/step - loss: 0.2449 - accuracy: 0.9076\n",
            "Epoch 9/10\n",
            "1875/1875 [==============================] - 5s 3ms/step - loss: 0.2336 - accuracy: 0.9129\n",
            "Epoch 10/10\n",
            "1875/1875 [==============================] - 5s 3ms/step - loss: 0.2244 - accuracy: 0.9158\n",
            "INFO:tensorflow:Assets written to: /tmp/tmp9wy76815/model/data/model/assets\n",
            "313/313 - 0s - loss: 0.3476 - accuracy: 0.8793\n",
            "test_loss 0.34762606024742126\n",
            "test_accuracy 0.8792999982833862\n"
          ],
          "name": "stdout"
        }
      ]
    },
    {
      "cell_type": "code",
      "metadata": {
        "colab": {
          "base_uri": "https://localhost:8080/"
        },
        "id": "SM_VelMYxhjv",
        "outputId": "06b52071-c0d6-47b0-ec6b-17dea45c260f"
      },
      "source": [
        "#softmax\n",
        "activation = tf.keras.activations.softmax\n",
        "\n",
        "model = tf.keras.Sequential([\n",
        "tf.keras.layers.Flatten(input_shape=(28, 28)),\n",
        "tf.keras.layers.Dense(300, activation=activation),\n",
        "tf.keras.layers.Dense(10)\n",
        "])\n",
        "\n",
        "model.compile(optimizer='adam',loss=tf.keras.losses.SparseCategoricalCrossentropy(from_logits=True),metrics=['accuracy'])\n",
        "model.summary()# model summary\n",
        "\n",
        "with mlflow.start_run():\n",
        "    model.fit(train_images, train_labels, epochs=10)\n",
        "    test_loss, test_acc = model.evaluate(test_images,  test_labels, verbose=2)\n",
        "\n",
        "    print('test_loss', test_loss)\n",
        "    print('test_accuracy', test_acc)\n",
        "\n",
        "    mlflow.tensorflow.mlflow.log_metric('test_loss', test_loss)\n",
        "    mlflow.tensorflow.mlflow.log_metric('test_acc', test_acc)  \n",
        "    mlflow.tensorflow.mlflow.log_param('initializer', model.layers[1].kernel_initializer)\n",
        "    mlflow.tensorflow.mlflow.log_param('activation', activation)\n",
        "    \n",
        "del model"
      ],
      "execution_count": 4,
      "outputs": [
        {
          "output_type": "stream",
          "text": [
            "Model: \"sequential_1\"\n",
            "_________________________________________________________________\n",
            "Layer (type)                 Output Shape              Param #   \n",
            "=================================================================\n",
            "flatten_1 (Flatten)          (None, 784)               0         \n",
            "_________________________________________________________________\n",
            "dense_2 (Dense)              (None, 300)               235500    \n",
            "_________________________________________________________________\n",
            "dense_3 (Dense)              (None, 10)                3010      \n",
            "=================================================================\n",
            "Total params: 238,510\n",
            "Trainable params: 238,510\n",
            "Non-trainable params: 0\n",
            "_________________________________________________________________\n",
            "Epoch 1/10\n",
            "   3/1875 [..............................] - ETA: 50s - loss: 2.3003 - accuracy: 0.1562  WARNING:tensorflow:Callback method `on_train_batch_end` is slow compared to the batch time (batch time: 0.0038s vs `on_train_batch_end` time: 0.0081s). Check your callbacks.\n",
            "1875/1875 [==============================] - 6s 3ms/step - loss: 1.3931 - accuracy: 0.6340\n",
            "Epoch 2/10\n",
            "1875/1875 [==============================] - 5s 3ms/step - loss: 0.8288 - accuracy: 0.6780\n",
            "Epoch 3/10\n",
            "1875/1875 [==============================] - 5s 3ms/step - loss: 0.7185 - accuracy: 0.7020\n",
            "Epoch 4/10\n",
            "1875/1875 [==============================] - 5s 3ms/step - loss: 0.6595 - accuracy: 0.7341\n",
            "Epoch 5/10\n",
            "1875/1875 [==============================] - 5s 3ms/step - loss: 0.6241 - accuracy: 0.7470\n",
            "Epoch 6/10\n",
            "1875/1875 [==============================] - 5s 3ms/step - loss: 0.6047 - accuracy: 0.7509\n",
            "Epoch 7/10\n",
            "1875/1875 [==============================] - 5s 3ms/step - loss: 0.5873 - accuracy: 0.7599\n",
            "Epoch 8/10\n",
            "1875/1875 [==============================] - 5s 3ms/step - loss: 0.5553 - accuracy: 0.8023\n",
            "Epoch 9/10\n",
            "1875/1875 [==============================] - 5s 3ms/step - loss: 0.5058 - accuracy: 0.8304\n",
            "Epoch 10/10\n",
            "1875/1875 [==============================] - 5s 3ms/step - loss: 0.4809 - accuracy: 0.8400\n",
            "INFO:tensorflow:Assets written to: /tmp/tmp4fq8uh37/model/data/model/assets\n",
            "313/313 - 0s - loss: 0.5123 - accuracy: 0.8282\n",
            "test_loss 0.5123215913772583\n",
            "test_accuracy 0.8281999826431274\n"
          ],
          "name": "stdout"
        }
      ]
    },
    {
      "cell_type": "code",
      "metadata": {
        "colab": {
          "base_uri": "https://localhost:8080/"
        },
        "id": "dAXEN99vymp8",
        "outputId": "d33906b3-e547-4131-94e9-134868c4b523"
      },
      "source": [
        "activation = tf.keras.activations.sigmoid\n",
        "\n",
        "model = tf.keras.Sequential([\n",
        "tf.keras.layers.Flatten(input_shape=(28, 28)),\n",
        "tf.keras.layers.Dense(300, activation=activation),\n",
        "tf.keras.layers.Dense(10)\n",
        "])\n",
        "\n",
        "model.compile(optimizer='adam',loss=tf.keras.losses.SparseCategoricalCrossentropy(from_logits=True),metrics=['accuracy'])\n",
        "model.summary()# model summary\n",
        "\n",
        "with mlflow.start_run():\n",
        "    model.fit(train_images, train_labels, epochs=10)\n",
        "    test_loss, test_acc = model.evaluate(test_images,  test_labels, verbose=2)\n",
        "\n",
        "    print('test_loss', test_loss)\n",
        "    print('test_accuracy', test_acc)\n",
        "\n",
        "    mlflow.tensorflow.mlflow.log_metric('test_loss', test_loss)\n",
        "    mlflow.tensorflow.mlflow.log_metric('test_acc', test_acc)  \n",
        "    mlflow.tensorflow.mlflow.log_param('initializer', model.layers[1].kernel_initializer)\n",
        "    mlflow.tensorflow.mlflow.log_param('activation', activation)\n",
        "\n",
        "del model"
      ],
      "execution_count": 5,
      "outputs": [
        {
          "output_type": "stream",
          "text": [
            "Model: \"sequential_2\"\n",
            "_________________________________________________________________\n",
            "Layer (type)                 Output Shape              Param #   \n",
            "=================================================================\n",
            "flatten_2 (Flatten)          (None, 784)               0         \n",
            "_________________________________________________________________\n",
            "dense_4 (Dense)              (None, 300)               235500    \n",
            "_________________________________________________________________\n",
            "dense_5 (Dense)              (None, 10)                3010      \n",
            "=================================================================\n",
            "Total params: 238,510\n",
            "Trainable params: 238,510\n",
            "Non-trainable params: 0\n",
            "_________________________________________________________________\n",
            "Epoch 1/10\n",
            "   4/1875 [..............................] - ETA: 31s - loss: 2.2705 - accuracy: 0.1250 WARNING:tensorflow:Callback method `on_train_batch_end` is slow compared to the batch time (batch time: 0.0033s vs `on_train_batch_end` time: 0.0072s). Check your callbacks.\n",
            "1875/1875 [==============================] - 6s 3ms/step - loss: 0.5136 - accuracy: 0.8191\n",
            "Epoch 2/10\n",
            "1875/1875 [==============================] - 6s 3ms/step - loss: 0.3861 - accuracy: 0.8600\n",
            "Epoch 3/10\n",
            "1875/1875 [==============================] - 6s 3ms/step - loss: 0.3472 - accuracy: 0.8728\n",
            "Epoch 4/10\n",
            "1875/1875 [==============================] - 5s 3ms/step - loss: 0.3176 - accuracy: 0.8834\n",
            "Epoch 5/10\n",
            "1875/1875 [==============================] - 5s 3ms/step - loss: 0.2999 - accuracy: 0.8896\n",
            "Epoch 6/10\n",
            "1875/1875 [==============================] - 5s 3ms/step - loss: 0.2821 - accuracy: 0.8960\n",
            "Epoch 7/10\n",
            "1875/1875 [==============================] - 6s 3ms/step - loss: 0.2677 - accuracy: 0.9007\n",
            "Epoch 8/10\n",
            "1875/1875 [==============================] - 6s 3ms/step - loss: 0.2550 - accuracy: 0.9055\n",
            "Epoch 9/10\n",
            "1875/1875 [==============================] - 6s 3ms/step - loss: 0.2420 - accuracy: 0.9104\n",
            "Epoch 10/10\n",
            "1875/1875 [==============================] - 5s 3ms/step - loss: 0.2314 - accuracy: 0.9145\n",
            "INFO:tensorflow:Assets written to: /tmp/tmpg5yiczfs/model/data/model/assets\n",
            "313/313 - 0s - loss: 0.3312 - accuracy: 0.8823\n",
            "test_loss 0.3311631977558136\n",
            "test_accuracy 0.8823000192642212\n"
          ],
          "name": "stdout"
        }
      ]
    },
    {
      "cell_type": "code",
      "metadata": {
        "colab": {
          "base_uri": "https://localhost:8080/"
        },
        "id": "apLfo7Nsz1V2",
        "outputId": "10a4323a-09e7-433e-cac1-328d28814a37"
      },
      "source": [
        "#tanh\n",
        "activation = tf.keras.activations.tanh\n",
        "\n",
        "model = tf.keras.Sequential([\n",
        "tf.keras.layers.Flatten(input_shape=(28, 28)),\n",
        "tf.keras.layers.Dense(300, activation=activation),\n",
        "tf.keras.layers.Dense(10)\n",
        "])\n",
        "\n",
        "model.compile(optimizer='adam',loss=tf.keras.losses.SparseCategoricalCrossentropy(from_logits=True),metrics=['accuracy'])\n",
        "model.summary()# model summary\n",
        "\n",
        "with mlflow.start_run():\n",
        "    model.fit(train_images, train_labels, epochs=10)\n",
        "    test_loss, test_acc = model.evaluate(test_images,  test_labels, verbose=2)\n",
        "\n",
        "    print('test_loss', test_loss)\n",
        "    print('test_accuracy', test_acc)\n",
        "\n",
        "    mlflow.tensorflow.mlflow.log_metric('test_loss', test_loss)\n",
        "    mlflow.tensorflow.mlflow.log_metric('test_acc', test_acc)  \n",
        "    mlflow.tensorflow.mlflow.log_param('initializer', model.layers[1].kernel_initializer)\n",
        "    mlflow.tensorflow.mlflow.log_param('activation', activation)\n",
        "\n",
        "del model"
      ],
      "execution_count": 6,
      "outputs": [
        {
          "output_type": "stream",
          "text": [
            "Model: \"sequential_3\"\n",
            "_________________________________________________________________\n",
            "Layer (type)                 Output Shape              Param #   \n",
            "=================================================================\n",
            "flatten_3 (Flatten)          (None, 784)               0         \n",
            "_________________________________________________________________\n",
            "dense_6 (Dense)              (None, 300)               235500    \n",
            "_________________________________________________________________\n",
            "dense_7 (Dense)              (None, 10)                3010      \n",
            "=================================================================\n",
            "Total params: 238,510\n",
            "Trainable params: 238,510\n",
            "Non-trainable params: 0\n",
            "_________________________________________________________________\n",
            "Epoch 1/10\n",
            "   4/1875 [..............................] - ETA: 32s - loss: 2.3118 - accuracy: 0.2266 WARNING:tensorflow:Callback method `on_train_batch_end` is slow compared to the batch time (batch time: 0.0045s vs `on_train_batch_end` time: 0.0072s). Check your callbacks.\n",
            "1875/1875 [==============================] - 5s 3ms/step - loss: 0.4721 - accuracy: 0.8291\n",
            "Epoch 2/10\n",
            "1875/1875 [==============================] - 5s 3ms/step - loss: 0.3685 - accuracy: 0.8661\n",
            "Epoch 3/10\n",
            "1875/1875 [==============================] - 5s 3ms/step - loss: 0.3324 - accuracy: 0.8761\n",
            "Epoch 4/10\n",
            "1875/1875 [==============================] - 5s 3ms/step - loss: 0.3086 - accuracy: 0.8856\n",
            "Epoch 5/10\n",
            "1875/1875 [==============================] - 6s 3ms/step - loss: 0.2891 - accuracy: 0.8921\n",
            "Epoch 6/10\n",
            "1875/1875 [==============================] - 6s 3ms/step - loss: 0.2773 - accuracy: 0.8964\n",
            "Epoch 7/10\n",
            "1875/1875 [==============================] - 6s 3ms/step - loss: 0.2654 - accuracy: 0.9010\n",
            "Epoch 8/10\n",
            "1875/1875 [==============================] - 5s 3ms/step - loss: 0.2553 - accuracy: 0.9044\n",
            "Epoch 9/10\n",
            "1875/1875 [==============================] - 6s 3ms/step - loss: 0.2459 - accuracy: 0.9067\n",
            "Epoch 10/10\n",
            "1875/1875 [==============================] - 5s 3ms/step - loss: 0.2368 - accuracy: 0.9107\n",
            "INFO:tensorflow:Assets written to: /tmp/tmpjpgz2ild/model/data/model/assets\n",
            "313/313 - 0s - loss: 0.3630 - accuracy: 0.8755\n",
            "test_loss 0.3630455434322357\n",
            "test_accuracy 0.8755000233650208\n"
          ],
          "name": "stdout"
        }
      ]
    },
    {
      "cell_type": "code",
      "metadata": {
        "colab": {
          "base_uri": "https://localhost:8080/"
        },
        "id": "44El65kY0FFR",
        "outputId": "9e96ac13-fe2f-4316-b9ce-8740c0ace83e"
      },
      "source": [
        "#selu\n",
        "activation = tf.keras.activations.selu\n",
        "\n",
        "model = tf.keras.Sequential([\n",
        "tf.keras.layers.Flatten(input_shape=(28, 28)),\n",
        "tf.keras.layers.Dense(300, activation=activation),\n",
        "tf.keras.layers.Dense(10)\n",
        "])\n",
        "\n",
        "model.compile(optimizer='adam',loss=tf.keras.losses.SparseCategoricalCrossentropy(from_logits=True),metrics=['accuracy'])\n",
        "model.summary()# model summary\n",
        "\n",
        "with mlflow.start_run():\n",
        "    model.fit(train_images, train_labels, epochs=10)\n",
        "    test_loss, test_acc = model.evaluate(test_images,  test_labels, verbose=2)\n",
        "\n",
        "    print('test_loss', test_loss)\n",
        "    print('test_accuracy', test_acc)\n",
        "\n",
        "    mlflow.tensorflow.mlflow.log_metric('test_loss', test_loss)\n",
        "    mlflow.tensorflow.mlflow.log_metric('test_acc', test_acc)  \n",
        "    mlflow.tensorflow.mlflow.log_param('initializer', model.layers[1].kernel_initializer)\n",
        "    mlflow.tensorflow.mlflow.log_param('activation', activation)\n",
        "    \n",
        "del model"
      ],
      "execution_count": 7,
      "outputs": [
        {
          "output_type": "stream",
          "text": [
            "Model: \"sequential_4\"\n",
            "_________________________________________________________________\n",
            "Layer (type)                 Output Shape              Param #   \n",
            "=================================================================\n",
            "flatten_4 (Flatten)          (None, 784)               0         \n",
            "_________________________________________________________________\n",
            "dense_8 (Dense)              (None, 300)               235500    \n",
            "_________________________________________________________________\n",
            "dense_9 (Dense)              (None, 10)                3010      \n",
            "=================================================================\n",
            "Total params: 238,510\n",
            "Trainable params: 238,510\n",
            "Non-trainable params: 0\n",
            "_________________________________________________________________\n",
            "Epoch 1/10\n",
            "   4/1875 [..............................] - ETA: 32s - loss: 2.1520 - accuracy: 0.3047 WARNING:tensorflow:Callback method `on_train_batch_end` is slow compared to the batch time (batch time: 0.0034s vs `on_train_batch_end` time: 0.0076s). Check your callbacks.\n",
            "1875/1875 [==============================] - 6s 3ms/step - loss: 0.5013 - accuracy: 0.8231\n",
            "Epoch 2/10\n",
            "1875/1875 [==============================] - 5s 3ms/step - loss: 0.3931 - accuracy: 0.8571\n",
            "Epoch 3/10\n",
            "1875/1875 [==============================] - 5s 3ms/step - loss: 0.3550 - accuracy: 0.8687\n",
            "Epoch 4/10\n",
            "1875/1875 [==============================] - 5s 3ms/step - loss: 0.3297 - accuracy: 0.8786\n",
            "Epoch 5/10\n",
            "1875/1875 [==============================] - 5s 3ms/step - loss: 0.3088 - accuracy: 0.8848\n",
            "Epoch 6/10\n",
            "1875/1875 [==============================] - 5s 3ms/step - loss: 0.2902 - accuracy: 0.8928\n",
            "Epoch 7/10\n",
            "1875/1875 [==============================] - 5s 3ms/step - loss: 0.2781 - accuracy: 0.8959\n",
            "Epoch 8/10\n",
            "1875/1875 [==============================] - 5s 3ms/step - loss: 0.2625 - accuracy: 0.9008\n",
            "Epoch 9/10\n",
            "1875/1875 [==============================] - 5s 3ms/step - loss: 0.2549 - accuracy: 0.9042\n",
            "Epoch 10/10\n",
            "1875/1875 [==============================] - 5s 3ms/step - loss: 0.2422 - accuracy: 0.9090\n",
            "INFO:tensorflow:Assets written to: /tmp/tmptfulkyqg/model/data/model/assets\n",
            "313/313 - 0s - loss: 0.3653 - accuracy: 0.8731\n",
            "test_loss 0.3652925491333008\n",
            "test_accuracy 0.8730999827384949\n"
          ],
          "name": "stdout"
        }
      ]
    },
    {
      "cell_type": "markdown",
      "metadata": {
        "id": "wXUVdjuk0jKc"
      },
      "source": [
        "#With Weight Initializer\n",
        "\n",
        "![16.JPG](data:image/jpeg;base64,/9j/4AAQSkZJRgABAQEAYABgAAD/4RDyRXhpZgAATU0AKgAAAAgABAE7AAIAAAANAAAISodpAAQAAAABAAAIWJydAAEAAAAaAAAQ0OocAAcAAAgMAAAAPgAAAAAc6gAAAAgAAAAAAAAAAAAAAAAAAAAAAAAAAAAAAAAAAAAAAAAAAAAAAAAAAAAAAAAAAAAAAAAAAAAAAAAAAAAAAAAAAAAAAAAAAAAAAAAAAAAAAAAAAAAAAAAAAAAAAAAAAAAAAAAAAAAAAAAAAAAAAAAAAAAAAAAAAAAAAAAAAAAAAAAAAAAAAAAAAAAAAAAAAAAAAAAAAAAAAAAAAAAAAAAAAAAAAAAAAAAAAAAAAAAAAAAAAAAAAAAAAAAAAAAAAAAAAAAAAAAAAAAAAAAAAAAAAAAAAAAAAAAAAAAAAAAAAAAAAAAAAAAAAAAAAAAAAAAAAAAAAAAAAAAAAAAAAAAAAAAAAAAAAAAAAAAAAAAAAAAAAAAAAAAAAAAAAAAAAAAAAAAAAAAAAAAAAAAAAAAAAAAAAAAAAAAAAAAAAAAAAAAAAAAAAAAAAAAAAAAAAAAAAAAAAAAAAAAAAAAAAAAAAAAAAAAAAAAAAAAAAAAAAAAAAAAAAAAAAAAAAAAAAAAAAAAAAAAAAAAAAAAAAAAAAAAAAAAAAAAAAAAAAAAAAAAAAAAAAAAAAAAAAAAAAAAAAAAAAAAAAAAAAAAAAAAAAAAAAAAAAAAAAAAAAAAAAAAAAAAAAAAAAAAAAAAAAAAAAAAAAAAAAAAAAAAAAAAAAAAAAAAAAAAAAAAAAAAAAAAAAAAAAAAAAAAAAAAAAAAAAAAAAAAAAAAAAAAAAAAAAAAAAAAAAAAAAAAAAAAAAAAAAAAAAAAAAAAAAAAAAAAAAAAAAAAAAAAAAAAAAAAAAAAAAAAAAAAAAAAAAAAAAAAAAAAAAAAAAAAAAAAAAAAAAAAAAAAAAAAAAAAAAAAAAAAAAAAAAAAAAAAAAAAAAAAAAAAAAAAAAAAAAAAAAAAAAAAAAAAAAAAAAAAAAAAAAAAAAAAAAAAAAAAAAAAAAAAAAAAAAAAAAAAAAAAAAAAAAAAAAAAAAAAAAAAAAAAAAAAAAAAAAAAAAAAAAAAAAAAAAAAAAAAAAAAAAAAAAAAAAAAAAAAAAAAAAAAAAAAAAAAAAAAAAAAAAAAAAAAAAAAAAAAAAAAAAAAAAAAAAAAAAAAAAAAAAAAAAAAAAAAAAAAAAAAAAAAAAAAAAAAAAAAAAAAAAAAAAAAAAAAAAAAAAAAAAAAAAAAAAAAAAAAAAAAAAAAAAAAAAAAAAAAAAAAAAAAAAAAAAAAAAAAAAAAAAAAAAAAAAAAAAAAAAAAAAAAAAAAAAAAAAAAAAAAAAAAAAAAAAAAAAAAAAAAAAAAAAAAAAAAAAAAAAAAAAAAAAAAAAAAAAAAAAAAAAAAAAAAAAAAAAAAAAAAAAAAAAAAAAAAAAAAAAAAAAAAAAAAAAAAAAAAAAAAAAAAAAAAAAAAAAAAAAAAAAAAAAAAAAAAAAAAAAAAAAAAAAAAAAAAAAAAAAAAAAAAAAAAAAAAAAAAAAAAAAAAAAAAAAAAAAAAAAAAAAAAAAAAAAAAAAAAAAAAAAAAAAAAAAAAAAAAAAAAAAAAAAAAAAAAAAAAAAAAAAAAAAAAAAAAAAAAAAAAAAAAAAAAAAAAAAAAAAAAAAAAAAAAAAAAAAAAAAAAAAAAAAAAAAAAAAAAAAAAAAAAAAAAAAAAAAAAAAAAAAAAAAAAAAAAAAAAAAAAAAAAAAAAAAAAAAAAAAAAAAAAAAAAAAAAAAAAAAAAAAAAAAAAAAAAAAAAAAAAAAAAAAAAAAAAAAAAAAAAAAAAAAAAAAAAAAAAAAAAAAAAAAAAAAAAAAAAAAAAAAAAAAAAAAAAAAAAAAAAAAAAAAAAAAAAAAAAAAAAAAAAAAAAAAAAAAAAAAAAAAAAAAAAAAAAAAAAAAAAAAAAAAAAAAAAAAAAAAAAAAAAAAAAAAAAAAAAAAAAAAAAAAAAAAAAAAAAAAAAAAAAAAAAAAAAAAAAAAAAAAAAAAAAAAAAAAAAAAAAAAAAAAAAAAAAAAAAAAAAAAAAAAAAAAAAAAAAAAAAAAAAAAAAAAAAAAAAAAAAAAAAAAAAAAAAAAAAAAAAAAAAAAAAAAAAAAAAAAAAAAAAAAAAAAAAAAAAAAAAAAAAAAAAAAAAAAAAAAAAAAAAAAAAAAAAAAAAAAAAAAAAAAAAAAAAAAAAAAAAAAAAAAAAAAAAAAAAAAAAAAAAAAAAAAAAAAAAAAAAAAAAAAAAAAAAAAAAAAAAAAAAAAAAAAAAAAAAAAAAAAAAAAAAAAAAAAAAAAAAAAAAAAAAAAAAAAAAAAAAAAAAAAAAAAAAAAAAAAAAAAAAAAAAAAAAAAAAAAAAAAAAAAAAAAAAAAAAAAAAAAAAAAAAAAAAAAAAAAAAAAAAAAAAAAAAAAAAAAAAAAAAAAAAAAAAAAAAAAAAAAAAAAAAAAAAAAAAAAAAAAAAAAAAAAAAAAAAAAAAAAAAAAAAAAAAAAAAAAAAAAAAAAAAAAAAAAAAAAAAAAAAAAAAAAAAAAAAAAAAAAAAAAAAAAAAAAAAAAAAAAAAAAAAAAAAAAAAAAAAAAAAAAAAAAAAAAAAAAAAAAAAAAAAAAAAAAAAAAAAAAAAAAAAAAAAAAAAAAAAAAAAAAAAAAAAAAAAAAAAAAAAAAAAAAAAAAAAAAAAAAAAAAAAAAAAAAAAAAAAAAAAAAAAAAAAAAAAAAAAAAAAAAAAAAAAAAAAAAAAAAAAAAAAAAAAAAAAAAAAAAAAAAAAAAAAAAAAAAAAAAAAAAAAAAAAAAAAAAAAAAAAAAE5laGFhIEJhbnNhbAAAAAWQAwACAAAAFAAAEKaQBAACAAAAFAAAELqSkQACAAAAAzgzAACSkgACAAAAAzgzAADqHAAHAAAIDAAACJoAAAAAHOoAAAAIAAAAAAAAAAAAAAAAAAAAAAAAAAAAAAAAAAAAAAAAAAAAAAAAAAAAAAAAAAAAAAAAAAAAAAAAAAAAAAAAAAAAAAAAAAAAAAAAAAAAAAAAAAAAAAAAAAAAAAAAAAAAAAAAAAAAAAAAAAAAAAAAAAAAAAAAAAAAAAAAAAAAAAAAAAAAAAAAAAAAAAAAAAAAAAAAAAAAAAAAAAAAAAAAAAAAAAAAAAAAAAAAAAAAAAAAAAAAAAAAAAAAAAAAAAAAAAAAAAAAAAAAAAAAAAAAAAAAAAAAAAAAAAAAAAAAAAAAAAAAAAAAAAAAAAAAAAAAAAAAAAAAAAAAAAAAAAAAAAAAAAAAAAAAAAAAAAAAAAAAAAAAAAAAAAAAAAAAAAAAAAAAAAAAAAAAAAAAAAAAAAAAAAAAAAAAAAAAAAAAAAAAAAAAAAAAAAAAAAAAAAAAAAAAAAAAAAAAAAAAAAAAAAAAAAAAAAAAAAAAAAAAAAAAAAAAAAAAAAAAAAAAAAAAAAAAAAAAAAAAAAAAAAAAAAAAAAAAAAAAAAAAAAAAAAAAAAAAAAAAAAAAAAAAAAAAAAAAAAAAAAAAAAAAAAAAAAAAAAAAAAAAAAAAAAAAAAAAAAAAAAAAAAAAAAAAAAAAAAAAAAAAAAAAAAAAAAAAAAAAAAAAAAAAAAAAAAAAAAAAAAAAAAAAAAAAAAAAAAAAAAAAAAAAAAAAAAAAAAAAAAAAAAAAAAAAAAAAAAAAAAAAAAAAAAAAAAAAAAAAAAAAAAAAAAAAAAAAAAAAAAAAAAAAAAAAAAAAAAAAAAAAAAAAAAAAAAAAAAAAAAAAAAAAAAAAAAAAAAAAAAAAAAAAAAAAAAAAAAAAAAAAAAAAAAAAAAAAAAAAAAAAAAAAAAAAAAAAAAAAAAAAAAAAAAAAAAAAAAAAAAAAAAAAAAAAAAAAAAAAAAAAAAAAAAAAAAAAAAAAAAAAAAAAAAAAAAAAAAAAAAAAAAAAAAAAAAAAAAAAAAAAAAAAAAAAAAAAAAAAAAAAAAAAAAAAAAAAAAAAAAAAAAAAAAAAAAAAAAAAAAAAAAAAAAAAAAAAAAAAAAAAAAAAAAAAAAAAAAAAAAAAAAAAAAAAAAAAAAAAAAAAAAAAAAAAAAAAAAAAAAAAAAAAAAAAAAAAAAAAAAAAAAAAAAAAAAAAAAAAAAAAAAAAAAAAAAAAAAAAAAAAAAAAAAAAAAAAAAAAAAAAAAAAAAAAAAAAAAAAAAAAAAAAAAAAAAAAAAAAAAAAAAAAAAAAAAAAAAAAAAAAAAAAAAAAAAAAAAAAAAAAAAAAAAAAAAAAAAAAAAAAAAAAAAAAAAAAAAAAAAAAAAAAAAAAAAAAAAAAAAAAAAAAAAAAAAAAAAAAAAAAAAAAAAAAAAAAAAAAAAAAAAAAAAAAAAAAAAAAAAAAAAAAAAAAAAAAAAAAAAAAAAAAAAAAAAAAAAAAAAAAAAAAAAAAAAAAAAAAAAAAAAAAAAAAAAAAAAAAAAAAAAAAAAAAAAAAAAAAAAAAAAAAAAAAAAAAAAAAAAAAAAAAAAAAAAAAAAAAAAAAAAAAAAAAAAAAAAAAAAAAAAAAAAAAAAAAAAAAAAAAAAAAAAAAAAAAAAAAAAAAAAAAAAAAAAAAAAAAAAAAAAAAAAAAAAAAAAAAAAAAAAAAAAAAAAAAAAAAAAAAAAAAAAAAAAAAAAAAAAAAAAAAAAAAAAAAAAAAAAAAAAAAAAAAAAAAAAAAAAAAAAAAAAAAAAAAAAAAAAAAAAAAAAAAAAAAAAAAAAAAAAAAAAAAAAAAAAAAAAAAAAAAAAAAAAAAAAAAAAAAAAAAAAAAAAAAAAAAAAAAAAAAAAAAAAAAAAAAAAAAAAAAAAAAAAAAAAAAAAAAAAAAAAAAAAAAAAAAAAAAAAAAAAAAAAAAAAAAAAAAAAAAAAAAAAAAAAAAAAAAAAAAAAAAAAAAAAAAAAAAAAAAAAAAAAAAAAAAAAAAAAAAAAAAAAAAAAAAAAAAAAAAAAAAAAAAAAAAAAAAAAAAAAAAAAAAAAAAAAAAAAAAAAAAAAAAAAAAAAAAAAAAAAAAAAAAAAAAAAAAAAAAAAAAAAAAAAAAAAAAAAAAAAAAAAAAAAAAAAAAAAAAAAAAAAAAAAAAAAAAAAAAAAAAAAAAAAAAAAAAAAAAAAAAAAAAAAAAAAAAAAAAAAAAAAAAAAAAAAAAAAAAAAAAAAAAAAAAAAAAAAAAAAAAAAAAAAAAAAAAAAAAAAAAAAAAAAAAAAAAAAAAAAAAAAAAAAAAAAAAAAAAAAAAAAAAAAAAAAAAAAAAAAAAAAAAAAAAAAAAAAAAAAAAAAAAAAAAAAAAAAAAAAAAAAAAAAAAAAAAAAAAAAAAAAAAAAAAAAAAAAAAAAAAAAAAAAAAAAAAAAAAAAAAAAAAAAAAAAAAAAAAAAAAAAAAAAAAAAAAAAAAAAAAAAAAAAAAAAAAAAAAAAAAAAAAAAAAAAAAAAAAAAAAAAAAAAAAAAAAAAAAAAAAAAAAAAAAAAAAAAAAAAAAAAAAAAAAAAAAAAAAAAAAAAAAAAAAAAAAAAAAAAAAAAAAAAAAAAAAAAAAAAAAAAAAAAAAAAAAAAAAAAAAAAAAAAAAAAAAAAAAAAAAAAAAAAAAAAAAAAAAAAAAAAAAAAAAAAAAAAAAAAAAAAAAAAAAAAAAAAAAAAAAAAAAAAAAAAAAAAAAAAAAAAAAAAAAAAAAAAAAAAAAAAAAAAAyMDIxOjA3OjA4IDE0OjQwOjA4ADIwMjE6MDc6MDggMTQ6NDA6MDgAAABOAGUAaABhAGEAIABCAGEAbgBzAGEAbAAAAP/hCx9odHRwOi8vbnMuYWRvYmUuY29tL3hhcC8xLjAvADw/eHBhY2tldCBiZWdpbj0n77u/JyBpZD0nVzVNME1wQ2VoaUh6cmVTek5UY3prYzlkJz8+DQo8eDp4bXBtZXRhIHhtbG5zOng9ImFkb2JlOm5zOm1ldGEvIj48cmRmOlJERiB4bWxuczpyZGY9Imh0dHA6Ly93d3cudzMub3JnLzE5OTkvMDIvMjItcmRmLXN5bnRheC1ucyMiPjxyZGY6RGVzY3JpcHRpb24gcmRmOmFib3V0PSJ1dWlkOmZhZjViZGQ1LWJhM2QtMTFkYS1hZDMxLWQzM2Q3NTE4MmYxYiIgeG1sbnM6ZGM9Imh0dHA6Ly9wdXJsLm9yZy9kYy9lbGVtZW50cy8xLjEvIi8+PHJkZjpEZXNjcmlwdGlvbiByZGY6YWJvdXQ9InV1aWQ6ZmFmNWJkZDUtYmEzZC0xMWRhLWFkMzEtZDMzZDc1MTgyZjFiIiB4bWxuczp4bXA9Imh0dHA6Ly9ucy5hZG9iZS5jb20veGFwLzEuMC8iPjx4bXA6Q3JlYXRlRGF0ZT4yMDIxLTA3LTA4VDE0OjQwOjA4LjgyNzwveG1wOkNyZWF0ZURhdGU+PC9yZGY6RGVzY3JpcHRpb24+PHJkZjpEZXNjcmlwdGlvbiByZGY6YWJvdXQ9InV1aWQ6ZmFmNWJkZDUtYmEzZC0xMWRhLWFkMzEtZDMzZDc1MTgyZjFiIiB4bWxuczpkYz0iaHR0cDovL3B1cmwub3JnL2RjL2VsZW1lbnRzLzEuMS8iPjxkYzpjcmVhdG9yPjxyZGY6U2VxIHhtbG5zOnJkZj0iaHR0cDovL3d3dy53My5vcmcvMTk5OS8wMi8yMi1yZGYtc3ludGF4LW5zIyI+PHJkZjpsaT5OZWhhYSBCYW5zYWw8L3JkZjpsaT48L3JkZjpTZXE+DQoJCQk8L2RjOmNyZWF0b3I+PC9yZGY6RGVzY3JpcHRpb24+PC9yZGY6UkRGPjwveDp4bXBtZXRhPg0KICAgICAgICAgICAgICAgICAgICAgICAgICAgICAgICAgICAgICAgICAgICAgICAgICAgICAgICAgICAgICAgICAgICAgICAgICAgICAgICAgICAgICAgICAgICAgICAgICAgIAogICAgICAgICAgICAgICAgICAgICAgICAgICAgICAgICAgICAgICAgICAgICAgICAgICAgICAgICAgICAgICAgICAgICAgICAgICAgICAgICAgICAgICAgICAgICAgICAgICAgCiAgICAgICAgICAgICAgICAgICAgICAgICAgICAgICAgICAgICAgICAgICAgICAgICAgICAgICAgICAgICAgICAgICAgICAgICAgICAgICAgICAgICAgICAgICAgICAgICAgICAKICAgICAgICAgICAgICAgICAgICAgICAgICAgICAgICAgICAgICAgICAgICAgICAgICAgICAgICAgICAgICAgICAgICAgICAgICAgICAgICAgICAgICAgICAgICAgICAgICAgIAogICAgICAgICAgICAgICAgICAgICAgICAgICAgICAgICAgICAgICAgICAgICAgICAgICAgICAgICAgICAgICAgICAgICAgICAgICAgICAgICAgICAgICAgICAgICAgICAgICAgCiAgICAgICAgICAgICAgICAgICAgICAgICAgICAgICAgICAgICAgICAgICAgICAgICAgICAgICAgICAgICAgICAgICAgICAgICAgICAgICAgICAgICAgICAgICAgICAgICAgICAKICAgICAgICAgICAgICAgICAgICAgICAgICAgICAgICAgICAgICAgICAgICAgICAgICAgICAgICAgICAgICAgICAgICAgICAgICAgICAgICAgICAgICAgICAgICAgICAgICAgIAogICAgICAgICAgICAgICAgICAgICAgICAgICAgICAgICAgICAgICAgICAgICAgICAgICAgICAgICAgICAgICAgICAgICAgICAgICAgICAgICAgICAgICAgICAgICAgICAgICAgCiAgICAgICAgICAgICAgICAgICAgICAgICAgICAgICAgICAgICAgICAgICAgICAgICAgICAgICAgICAgICAgICAgICAgICAgICAgICAgICAgICAgICAgICAgICAgICAgICAgICAKICAgICAgICAgICAgICAgICAgICAgICAgICAgICAgICAgICAgICAgICAgICAgICAgICAgICAgICAgICAgICAgICAgICAgICAgICAgICAgICAgICAgICAgICAgICAgICAgICAgIAogICAgICAgICAgICAgICAgICAgICAgICAgICAgICAgICAgICAgICAgICAgICAgICAgICAgICAgICAgICAgICAgICAgICAgICAgICAgICAgICAgICAgICAgICAgICAgICAgICAgCiAgICAgICAgICAgICAgICAgICAgICAgICAgICAgICAgICAgICAgICAgICAgICAgICAgICAgICAgICAgICAgICAgICAgICAgICAgICAgICAgICAgICAgICAgICAgICAgICAgICAKICAgICAgICAgICAgICAgICAgICAgICAgICAgICAgICAgICAgICAgICAgICAgICAgICAgICAgICAgICAgICAgICAgICAgICAgICAgICAgICAgICAgICAgICAgICAgICAgICAgIAogICAgICAgICAgICAgICAgICAgICAgICAgICAgICAgICAgICAgICAgICAgICAgICAgICAgICAgICAgICAgICAgICAgICAgICAgICAgICAgICAgICAgICAgICAgICAgICAgICAgCiAgICAgICAgICAgICAgICAgICAgICAgICAgICAgICAgICAgICAgICAgICAgICAgICAgICAgICAgICAgICAgICAgICAgICAgICAgICAgICAgICAgICAgICAgICAgICAgICAgICAKICAgICAgICAgICAgICAgICAgICAgICAgICAgICAgICAgICAgICAgICAgICAgICAgICAgICAgICAgICAgICAgICAgICAgICAgICAgICAgICAgICAgICAgICAgICAgICAgICAgIAogICAgICAgICAgICAgICAgICAgICAgICAgICAgICAgICAgICAgICAgICAgICAgICAgICAgICAgICAgICAgICAgICAgICAgICAgICAgICAgICAgICAgICAgICAgICAgICAgICAgCiAgICAgICAgICAgICAgICAgICAgICAgICAgICAgICAgICAgICAgICAgICAgICAgICAgICAgICAgICAgICAgICAgICAgICAgICAgICAgICAgICAgICAgICAgICAgICAgICAgICAKICAgICAgICAgICAgICAgICAgICAgICAgICAgICAgICAgICAgICAgICAgICAgICAgICAgICAgICAgICAgICAgICAgICAgICAgICAgICAgICAgICAgICAgICAgICAgICAgICAgIAogICAgICAgICAgICAgICAgICAgICAgICAgICAgICAgICAgICAgICAgICAgICAgICAgICAgICAgICAgICAgICAgICAgICAgICAgICAgICAgICAgICAgICAgICAgICAgICAgICAgCiAgICAgICAgICAgICAgICAgICAgICAgICAgICA8P3hwYWNrZXQgZW5kPSd3Jz8+/9sAQwAHBQUGBQQHBgUGCAcHCAoRCwoJCQoVDxAMERgVGhkYFRgXGx4nIRsdJR0XGCIuIiUoKSssKxogLzMvKjInKisq/9sAQwEHCAgKCQoUCwsUKhwYHCoqKioqKioqKioqKioqKioqKioqKioqKioqKioqKioqKioqKioqKioqKioqKioqKioq/8AAEQgAewGDAwEiAAIRAQMRAf/EAB8AAAEFAQEBAQEBAAAAAAAAAAABAgMEBQYHCAkKC//EALUQAAIBAwMCBAMFBQQEAAABfQECAwAEEQUSITFBBhNRYQcicRQygZGhCCNCscEVUtHwJDNicoIJChYXGBkaJSYnKCkqNDU2Nzg5OkNERUZHSElKU1RVVldYWVpjZGVmZ2hpanN0dXZ3eHl6g4SFhoeIiYqSk5SVlpeYmZqio6Slpqeoqaqys7S1tre4ubrCw8TFxsfIycrS09TV1tfY2drh4uPk5ebn6Onq8fLz9PX29/j5+v/EAB8BAAMBAQEBAQEBAQEAAAAAAAABAgMEBQYHCAkKC//EALURAAIBAgQEAwQHBQQEAAECdwABAgMRBAUhMQYSQVEHYXETIjKBCBRCkaGxwQkjM1LwFWJy0QoWJDThJfEXGBkaJicoKSo1Njc4OTpDREVGR0hJSlNUVVZXWFlaY2RlZmdoaWpzdHV2d3h5eoKDhIWGh4iJipKTlJWWl5iZmqKjpKWmp6ipqrKztLW2t7i5usLDxMXGx8jJytLT1NXW19jZ2uLj5OXm5+jp6vLz9PX29/j5+v/aAAwDAQACEQMRAD8A9k8VfEbSPCGqR2GpW97LLJCJgbdEZdpZl7sOcqaxP+F4+G/+fHVf+/Mf/wAcrj/jj/yO9n/2Dk/9GSVxukeHbvWdN1O9tZIUj02ETTCRiCy8/dwDk8d8VxTrTUml0PtcHlGCnhIVqt9bde7sexf8Lx8N/wDPjqv/AH5j/wDjlH/C8fDf/Pjqv/fmP/45Xg9by+D9SmvorWxe1vZJLMXrG3nBEcffcTjBHp71Ht6jOueSZdT+O6+Z61/wvHw3/wA+Oq/9+Y//AI5R/wALx8N/8+Oq/wDfmP8A+OV4tLpMkWgwaqbm1aOeVohAsuZVI7lew96l8O6BdeJtai0ywkhjnlVmVpmIX5QSegJ7elHtqrdgeSZdGDm72V769tz2T/hePhv/AJ8dV/78x/8Axyj/AIXj4b/58dV/78x//HK8YvNGlstJtr97m1kW4keMQxy5kQqcEsuOAe1Z1L6xUKjkOAmrxv8Aee8f8Lx8N/8APjqv/fmP/wCOUf8AC8fDf/Pjqv8A35j/APjleLadot9qsF5NYw+ZFZQme4YsBsQd+evTtRqGkyafZWNy9zazLexGRUhl3NGAcYcdjT9vUtcn+xMu5uTW/r8/yPaf+F4+G/8Anx1X/vzH/wDHKP8AhePhv/nx1X/vzH/8crweil9YqGn+r+B7P7z3j/hePhv/AJ8dV/78x/8Axyj/AIXj4b/58dV/78x//HK8Hqa0tpL29gtYMeZPIsaZ9ScD+dCr1G7ITyDApXaf3nuX/C8fDf8Az46r/wB+Y/8A45R/wvHw3/z46r/35j/+OV5B4n8MXvhPVhp+pPBJK0QlDQMWUgkjqQD2PaqunaLfarBeTWMPmRWUJnuGLAbEHfnr07U/b1L2M1kuWypqom+V9bntP/C8fDf/AD46r/35j/8AjlH/AAvHw3/z46r/AN+Y/wD45Xi2oaTJp9lY3L3NrMt7EZFSGXc0YBxhx2NUKTxFRaFxyHATV43+894/4Xj4b/58dV/78x//AByj/hePhv8A58dV/wC/Mf8A8crxbS9FvtZa5Gnw+Z9lgaeYlguxF6nnr+FF5pMllpdjfNc2sqXoYrHFLuePacfOvan7epa5P9iZdzcmt/X5/ke0/wDC8fDf/Pjqv/fmP/45R/wvHw3/AM+Oq/8AfmP/AOOV4PRS+sVDT/V/A9n957x/wvHw3/z46r/35j/+OUf8Lx8N/wDPjqv/AH5j/wDjleRweFLyXww+vTXNnaWmWWJbiUq9wy9QgAOT9cVh03XqLRkQyPL535bu2m/U94/4Xj4b/wCfHVf+/Mf/AMco/wCF4+G/+fHVf+/Mf/xyvB6u6RpF7rupx6fpcPnXMmdq7gvAGScnjpSVeo9EOWQ4CEXKV0l5ntf/AAvHw3/z46r/AN+Y/wD45R/wvHw3/wA+Oq/9+Y//AI5XjH9jSjQ5dTNzahIrj7O0Bl/ek4zkL3X3rOo+sVAjkOAle19PM94/4Xj4b/58dV/78x//AByj/hePhv8A58dV/wC/Mf8A8crweij6xUK/1fwPZ/ee8f8AC8fDf/Pjqv8A35j/APjlH/C8fDf/AD46r/35j/8AjleD0UfWKgf6v4Hs/vPeP+F4+G/+fHVf+/Mf/wAco/4Xj4b/AOfHVf8AvzH/APHK8Hoo+sVA/wBX8D2f3nvH/C8fDf8Az46r/wB+Y/8A45R/wvHw3/z46r/35j/+OV4PRR9YqB/q/gez+894/wCF4+G/+fHVf+/Mf/xyj/hePhv/AJ8dV/78x/8AxyvB6KPrFQP9X8D2f3nvH/C8fDf/AD46r/35j/8AjlH/AAvHw3/z46r/AN+Y/wD45Xjfh2OOfXbe3l0z+1DM3lpbea0e5j0OV54qXxXaadZ+LL600Il7OOXZF827nAyAe43ZFP21SyZj/YmA9r7Lle199D1//hePhv8A58dV/wC/Mf8A8co/4Xj4b/58dV/78x//AByvMX+HurrHqhWW0eTSrdJ7mFXYsu5S20fLgsAMkZ/E1k6t4futGstNurqSF01GDz4hGxJVfRsgYP0zTdaqtyYZRldR8sW2/Xyv+Wp7J/wvHw3/AM+Oq/8AfmP/AOOUf8Lx8N/8+Oq/9+Y//jleD0VP1iodH+r+B7P7z3j/AIXj4b/58dV/78x//HKP+F4+G/8Anx1X/vzH/wDHK8Hq3pWnS6vq1rp9syLNdSrEjSEhQScc4B4pqvUbshSyHARi5O9l5ntv/C8fDf8Az46r/wB+Y/8A45VnTvjF4f1TVLSwt7PUllupkhQvFGFDMwUZw/TJrxq/8J32n2eoXLy28y6bd/ZLlYmYsjdmwQPlJGAevtUfhD/kd9D/AOwjb/8AoxaFXqXSZjLJcvlSlOnd2T6+Vz6oooor0D4I8H+OP/I72f8A2Dk/9GSVR8B/8ij4y/7B4/8AZqvfHH/kd7P/ALByf+jJK4aw1rUNMs721sbjyob6PyrhditvX0yRkde2K82ckqkvn+R+j4SjKtllOEd/df3ST/Q9q1S6e6k1TSJ1jazHhkXOzyxnzACA2euQAPypdPvrm31ywhglZEbwqspUd3X7p/DcfzryJ/GevyXEs73+ZJrT7E7eTHzD/d+7+vX3pI/GevxahaX0eoMtxZ24toXESfLEP4SMYP45q3WTbf8AX2v80cayetyct47ee9l5d0d9pyax4i8D6A9pcr/ac+tSym4lUEKQjksRjB4HTFdLpXlXl/4V1B73+0roPdwNfGDymlUK3BHoCMD/AOvXjw8a+IF8rZqJTyblruPbEg2ytnc3C99x46c9Knb4h+KHuIJ21T95bszxH7PFhCwwcDbjoelCqxS+78kiq2VYipdRcUve/Hm0221Xlvo9DtLQao3g/wAJxaDM0F7LqVzGsqqDsUs+44PHAyas6lrOo6p4q1W/03W/7O0vQ4UtprwwCZ5Du5wuOSWBHBHAHrXnmn+N/EOlw20Vjf8AlJas7QjyI22F/vdVOc5PWpz8RPFBuGm/tMB2j8ttttEAy5zyAuDz360vax8/6VjWWW13NytF72v5yu/svpouzvuep3t3NpOs+MDpkhtwNKS9UIoAExUgvj1+UVW0yNNQHhO7vVW4uIdJurqMOM7pQUwcevJNeXp458RprD6qupN9skhEDyGJCGQdAV24P1xmom8Ya81xYz/2gyy6eGFsyRovlhvvDgc5980e1j/Xz/zX3GSyiula6vbfX+Xl7bX/ADPWvD8p1G+8NazfKjajd6ZdC4YoAZgpXaSB9f1rifHlzJqvgnwrq17sa9nSdZJVQLuAYADj0rnz438RHV11M6kxu1hMKv5SbVQ9QF27R+ArPu9av77S7PTrqffaWO77PHsUbNxyeQMn8c1M6ilFpf1qdOHy2rSrxqtrT8ve0Wm2q+4oV1fw0sBf+P8AT9+PLti1w5J4AQEg/niuUq9pes3+iyzSaZP5DzwtBI2xWJRuo5Bx06jms4S5ZKR6uJpzq0ZU4Ozat957HdaTa674k8I31/PZ6hGzXEUjwP5kcrLl0XJAz34x2rM8PeLtfvYPGD3d28cljaSNbxqir5DAtgAAdsY59K81g8R6ta6bb2FveNHb2tx9phVVUGOTpuDYz36ZxV//AIT/AMTf2p/aH9pn7V5Xkl/IjwyZzgrtwee5Ga19oumm/wCK/wAzxXldXlcHyyXS/S0nLs907P06npumai0jeD7e8cuNX0y6glLfxM21sn8R+tZ99FqVvrMdtpuqrpVt4c0eKO8ufJErIWwxCr6nA9OlebzeK9auJtPllvSZNNYtaMI0HlkkE9BzyB1zUkHjHXrbWLvVIdQZbu8GLhzGhEg91I29vSn7ZP8Ar1t+YRyqrF3TWz06Xcn3X8rttv0PYJruWx8V662nyGITeHxenYgXdMMgSY9cCqOgxJrNn4LuNUxcy7b25xIAfMl3ZyR9Tn8K8wHjjxENZXVv7Sb7asH2cS+UnMec7SNuDz6iopPF+uyvZO2oMrWMjy27JGimNnOWPAGcnseKfto/16t/16Gayiuo2TV7b63+Fx7eaPWPDk7axd+Eda1MIdTnF5FI+wKZUUNjIHp0/GuS8b3Umr/DzQtUvRG12bq4i8xUC/IGOF47DArmX8ceIpNYg1R9SY3dujJE/lJtQN1wm3bz9KoXOuajeaRb6ZcXG+zt5Gkii2KNrMSScgZPU9TUTqKUbL+tTooZbVp141XbR/cvf0Wm3vL7vQ9T0bWL8+D/AAQj3T7J9SEEoOPmRH+Rfw2j8qsbWW11bcpGfF0WMjr86V5N/wAJBqn9m2VgLsrbWEpmtlVFBjcnOdwGTz6mtK8+IHie/RUu9UaRVlSZQYYxh0OVPC+v5960VaN7v+vh/wAjKeVVeZuFrNt/+TNrp20PTPEGzXLHXrPUxGbe01u2ihIQL5SuyBuR67myfek03XdTi+Mx8PRuLbSrdGSG0jjVVCiLIPTPXmvKLrxXrV7b30Fze749QlWa5HlIPMdcYOQOOg6YqzJ478SyyWckmqO0li26CQxpuU4K8nGW4JHOalVUrf10sSspq+zcHyu6aW+jaWq03un+Z3Whyv4h8IXJ1uYzm58RQRzM/wDEvyLg/gMVqXsrambz+0I41Ok+I7eCwwgXy03oNgwOmDmvKrvxdrl9b3MFzfEx3U63MoWJEzIoADAgAjhR0x0qS+8a+IdSa1N7qTym0lWaL92gw69GOB8x46tmiNaKt8vwt/l+JcsrrSnzJpa+em22nXZ7afceoeJdQSbS/EUuq28dzbaTrNu0UQjUYXKFx05zls59a4/4mNNqC6drVtqRvtHvPM+xo0YRrYgjdHgDkDAx9PxPPHxnr5a5Jv8Am7uEuZv3MfzyIQVb7vGNo4HFVdZ8R6r4gaJtXuzP5IIjUIqKmeuFUAc1EqilGxthMuq4epGWml/uaS0VtHdXvf7zMooorE9wKKKKACiiigAro/AOkQa34306yvFD25cvIh6MFUtj8cYrnKs6fqF1pV/Fe6fO0FzC25JF6g1cGoyTZjXhOdGUIOzadn5nqeteNtasPAlvqFrefZbi71KZbeMRIVW2UEbdpBGAQOcVwGkXkmr+OtNuNTZGaa9hEhWJUUjco+6oAHA9Kp6xr2p6/cpPq901w6LtT5QqqPQKoAH4CqEcjwypJExV0YMrDsR3qvaPnUnsrfgceHwMaNKUUkpSvqvPpffQ9k0LVTpes+Or++GUj1CFZQw/5ZmVlP8A46a07jR7W08WaHblEmGnaTcSWqt8wYqwCH3ODmvKNa8Y3mp3GoPaoLKLVEi+3Qgq4ldP4gSuVyecA/iarv4v157uwum1GTz9Oj8q2kCqCi4xg8fN+Oav2qSS7f5P+keY8qrzl7RNRbWq/wC3Ult53+TPW/D8v9o3/hrWb9UfULvTLoXBKAGZVK7SwHsf1rP0HxNqVz4Ss9UkeL7VeeIo4ZGES4EZVVKqMcfKAPXFecnxv4iOrrqZ1JjdrCYVfyk2qh6gLt2j8BVS18R6rZ6bDYW11stoLoXcaeWp2yjo2SM/h09qpVkpX/re/wCRX9kTafNbp8l72m22q+49d1eC81yx13TrNIBNY6zbpp48pVWAkpk8DpySevelkT7TZ6FLe6iNVvrHxCts139nERHXcg9VB78dK8q/4TTxBuumGosrXdwlzMyxIC0i42tkDjGBwMCprnx/4mvDCbjU9/k3C3Mf7iMbZF6Nwvv06GiNaKs35fhb/Ij+ycQkopxt/mrPp1+Xnfp1bYbUPiQkvMOx2Of74lO39a4nwh/yO+h/9hG3/wDRi1NJ4qnl0PU7SSLdd6rcrPd3ZYDeqnIUKAAPmOc/pUPhD/kd9D/7CNv/AOjFrC+sV2t/X4npU6M6VGrzdV+UUr/gfVFFFFesfmByXir4c6R4v1SO/wBSuL2KWOEQgW7oq7QzN3U85Y1if8KO8N/8/wBqv/f6P/43XpFcd411C8l1vQvDOn30unf2s80l1dwELJHBCm5gjH7pYlRnsM1m6cG9UehTzHF0oKEKjSRkf8KO8N/8/wBqv/f6P/43R/wo7w3/AM/2q/8Af6P/AON1DLqFja6h4Mg8K+J7jVbCbWpYriYaq135n+jSN5bvuOQCFO0njitOw+Jf2y8t2l0hoNM1E3CaZe/aQxuXhDEhk2/IGCMVOWyBzjpQ6NNK9i1muOvb2j/q/wDkUv8AhR3hv/n+1X/v9H/8bo/4Ud4b/wCf7Vf+/wBH/wDG6s6d8SNQ1HwtoupL4dSO91+QJpti1/8AfGwuzyP5fyKApPAYkY4BOBm3fxC8Qalr3hVPD+mwJDeXV1bX1rcXYRvOhVw8Zby2wFK7gw+9wMCn7CF+Wwv7Wxtr+1ZZ/wCFHeG/+f7Vf+/0f/xuj/hR3hv/AJ/tV/7/AEf/AMbr0iip9jT7D/tbHf8APxnm/wDwo7w3/wA/2q/9/o//AI3R/wAKO8N/8/2q/wDf6P8A+N16RRR7Gn2D+1sd/wA/Geb/APCjvDf/AD/ar/3+j/8AjdH/AAo7w3/z/ar/AN/o/wD43XpFFHsafYP7Wx3/AD8Z5v8A8KO8N/8AP9qv/f6P/wCN0f8ACjvDf/P9qv8A3+j/APjdekVxPxcudUtfh7M+gXctnqD3lrHBNE5UhmnRcEjsc4I7gmj2VPTQFmuOf/L1mb/wo7w3/wA/2q/9/o//AI3R/wAKO8N/8/2q/wDf6P8A+N1BaeP0Gtza9ezXCafD4YW8nslckJMs7q6hc435BTPtVzUPilc6PpWpSav4daHUrFLWcWMV4JPOhnkEasH2j5gcgqRjIxnBzT9jDt/V2v0F/a2Ov/Ef9JP9SL/hR3hv/n+1X/v9H/8AG6P+FHeG/wDn+1X/AL/R/wDxuryfEiW3j1a31jRGs9V0+4t4I7OO6EouDcHEOH2jGTkHjjB61u+FvEb+IIL6O8shY6hp101pd2yzeaqOFDAq+F3KVZSDgdelHsYPp/Wn+aD+1sd/z9Zyn/CjvDf/AD/ar/3+j/8AjdH/AAo7w3/z/ar/AN/o/wD43UvxcsJf7HsdQtdV1awn/tC0tCLHUJbdWSSdVbKowBOGIyeRWn4g1q98A6FFPBpsuqaNYxhry8udSZrmNd2CQGVjIQDk5YcetCowavbrb+vvH/auOvb2jMf/AIUd4b/5/tV/7/R//G6P+FHeG/8An+1X/v8AR/8AxupdY+KNzpeqa3HF4da503Q5rdb29F4FIjlVWDKm3LEbuVyOBnPasqbx1qvhzxp4zuJbC41PRrG6s/Nka82izjeJAfLjIOeTuIG31yTQqMH0/rT/ADD+1cd/z9Zof8KO8N/8/wBqv/f6P/43R/wo7w3/AM/2q/8Af6P/AON16QDlQR0NcX4D1SeS18VT6ndzTR2mu3iK00hbyolwQoz0Uc8Dil7Knd3Wyv8Ail+of2rjrJqo9Xb8G/0Mv/hR3hv/AJ/tV/7/AEf/AMbo/wCFHeG/+f7Vf+/0f/xur+j/ABLjvJIpNX0ttLs7zT5NTsJzOJDNbx4LF12jY21lbbluD17Vi3nxNv7zTb23v/Dtzpcdx4fudXtriHUQJWiUAKAQn7uQhs99vH3uw6MF0/rX/J/cOOaY6TS9q/6t/mi3/wAKO8N/8/2q/wDf6P8A+N0f8KO8N/8AP9qv/f6P/wCN1paH4v1DVLr+ztG0lLpLGyga4nvNR2SeZJD5iDHlneDwC/HJOAcVzHh/xjr+peHvDF34kjkSS98QG2jmsdQ2eaN0wIlQRAFF2BdufmwCSOlV7CHNa39N2IWb41x5vaPv+FzV/wCFHeG/+f7Vf+/0f/xuj/hR3hv/AJ/tV/7/AEf/AMbro/D/AIpu/Eeq3RsNKUaJBLLbrqMl0A8ssbbW2xbfu7gRuLDp0qH4kXWp2fg95tJe5iVbiL7ZLZjM8VrvHmtH1O4LnpyOSOan2UNNNyv7Vx17e0Zhf8KO8N/8/wBqv/f6P/43R/wo7w3/AM/2q/8Af6P/AON1oxa7ZeHfDukw+GJ7nxLLrVwV083epNL5nyl2LTPuKooU9jg8Yrl/EfjDXfFF14ZsdCs2tob67uYL2BdVe0l8+BXDw+bHGWVQV3bl5bgYAp+xhe1hf2tjrX9qzX/4Ud4b/wCf7Vf+/wBH/wDG6P8AhR3hv/n+1X/v9H/8brN0L4j+JrLRby613Rob0nxA2lWywX43Kxk2BOYgCFwPmJy2SSBWnB8U78XBXUfC7WsNrqiaVqEy36yCCaQqEKDYDIp3oSTtI3dDQqMJWst/1t/mvvB5tjle9R6fpf8AyYn/AAo7w3/z/ar/AN/o/wD43R/wo7w3/wA/2q/9/o//AI3W/qPivUNJ8VWOm6ho0aWGpTtbWd6l5uZpRGXAePYNoIVhkM3TpVXwt8QD4n1aHTYtKMFzFDK+pq1xu+wyJIY1j+6N5YqxB44Ge9Cowey/r+v61G82xy3qMyv+FHeG/wDn+1X/AL/R/wDxuj/hR3hv/n+1X/v9H/8AG69IqK6jlms5o7ec28roVSYKGMbEcNg8HHXBpeyh2D+1cd/z9Z55/wAKO8N/8/2q/wDf6P8A+N0f8KO8N/8AP9qv/f6P/wCN1ofDJ70J4mtNQ1O81M2euSwRzXku99ojjOOwAyScAADPStXULm4u/iBpWm208kcFnby312I5CofP7uJGA6gkyNg90HpT9jT003V/wuL+1sdr+8en+djmv+FHeG/+f7Vf+/0f/wAbo/4Ud4b/AOf7Vf8Av9H/APG6k8Z6nq1144tNBjkS00S3sW1LUrmHU5LWbygwX7yRkqByQAw3YwSoGC26+KNzp63stx4fMdnb6K+rQNJenzpEDBUV02fIXJ4+ZiMcjPFJUqbV7d/wv/k/uH/auOvb2j/4e3+a+8b/AMKO8N/8/wBqv/f6P/43R/wo7w3/AM/2q/8Af6P/AON1veGfGN3rfiC70rUdEbS5oLOC9QNcCUmOUsAHAACOCh4y31rqqbowW6Es2xr/AOXrPN/+FHeG/wDn+1X/AL/R/wDxuj/hR3hv/n+1X/v9H/8AG69Iopexp9h/2tjv+fjPN/8AhR3hv/n+1X/v9H/8bqzp3wd8P6Xqlpf295qTS2syTIHljKllYMM4TpkV39FP2UOxLzTGyVnUYUUUVoecFcn4z0bU59R0XxB4ft0u7/R5pCbR5BH9phkXbIgY8BuFIzxkc4rrKKAPJtN8J+IbnXbDUrrQ206NvE02oS273ELNBA1p5QJ2MQct2Uk80ul+CvECQ6Hod3p6xWPhp7qWK+E6EXu9JEiVVB3KcSfNuAGRxnrXrFFD1Vvl+FgWjv8A1u3+p5lZeFdd0vwf4DuYtONxqfhuMC509Zow0itCY3VXLbNwJB5bBwear2fg/wAQaTN4d1hdNF5dRaze399Zwzxq0K3IYDDMQrbMrnB55xmvVaKpybk5Ct7vL/XX/NhRRRUjCiiigAooooAK5rx7pN7rXhuK10yHzpl1CzmK71X5I7hHc5JA4VSa6WihaNPsB5Jqvwy1W88S+MYbQRx6Xq+l4sZWZcRXDSeY6EA7tu8bs4x85pniDwl4n8Uxarq0+jGyvZrewsoLJrmJmZYrkSyyFg20D0Gc4HQE4r16iiPupJdP6/4APVt9/wDgf5JnlXi3wBqmv674luf7OhuYJpNNuLWG4kXy7wwFzJERk7chsZYY5rZ0i4Xw5/ZGmaH4Nh8Py6tfsJ7QmL93EkeXmPksyk8Ko57jNd5RgZzjmmnbT+v60B66nLfELRr/AFzw7a2ulwefNHqdnOy71XCRzoznLEDhQTjr6VxvxT8HeIPEt7qyW+iDW7e401ItMLXMcaWM4Zi7FXYfMwK4YA9MEgc163RQtPvv+Fv0HfW/9b3PKta8Ga/d6T8QIbew3yax9k+wjzox52yJFbq3y4Kn72Kdr/g3Xr3TviHFbWO99Za1NiPOjHnbIkVurfLgqfvYr1Oii/8AX3f5CWljC8Pa1davqGsRPbJFZ6fdC0glDEmZlQGQ+mAx2/8AATXJ6Bp3iCyuvEmh33hq6+waxql3MuppdW5jSKUYDFPM39um3PNekgAdBiipaT37W/L/ACBaKy6O/wCf+Z5NZeBNe1qz0/TNesl0+HRtCudJS4EyOLuSVFjEiBSSECpn5sHJ6cZrFu7DxHqutLod7ov2XUYfBV3ZRoLmNxcSFo0DKQcKrEDG7B65AxXuTqHRkbowwcHFY+h+EtG8OzzT6XbSLPOoSSe4uZbiQqOi75GYhRk/KDiqvdtvrf8AFS/+SY0+W1um34f5HJW/h/V28UeGZ4NDfTpdLt44b3VDcxFbmDycGDYrFmIkIIyMDaSDzWZpfhLxHBpHhzS7jSWT+xfEjXclwLiIpLbsZm8xRuzx5igqRnPYjmvWaKbld387/jchRtHl8rfg1+v9I8zsLvXvhz4X1HTX0I3kNtPK+m3i3KeXcNNNmKJlz5gbdJg/LjjOa7nVr/U9P0lJ7HR31e6yoktreeOI8jkgyELwexNaZAPUUVO6K63PJ7HwZ4g0w2XiGHS0+1wa3caj/YcFwmYoZovLZFckJvz855C5JANWdG8Fa1Zaz4Zv7m1Xeuq6jqOoBJVItvtCNsXr8xGVB255z25r0+imnb+un9IHrv8A1v8A5s8m/wCES8Ros2mjSWaKPxdHq8d2LiLZLA0u9iFLbgVHUEc9s1NqPg3Xp7XxCkVjua88VWmoQDzoxvt0MG5/vcY2NweeOnSvU6KIvktbp+nL/wDIr8Ql7zbfX9b/APyTPIJPB3iKXx/Y6pe6F9qntNdlu21c3UZ3WZjcRxIpbcoXKgrgDPPPJGx4G8OeI9D8X3mranajy/EUTXOoIJIz9iuFc+WnB+YGJgpK5GUz3r0eiiLsrf1/Wz9Ql7zu/wCtb/r9wUUUUgOW8FaNf6Td+Jn1CDyVvtalurc71bfEyIA3BOOVPBweKm8NWs8mua/rF5BJC91dC2txKhVvIhXapwexcyMD3DA10dFHb0t91v8AIO/rc848UeE9a1m68a3Fvagvfabb2NgrSqBOq7nkHX5clyvzY/KszVPCvinX77Wbm70lbaPUjplrFB9ojJhtY5i8wYhsEjJyB1zgZr1qimnZr+v6uD1/r+uxwUkOpaHrHi3X7mSDT3vJra306Se3a7EkUcY4EMTh2Jd5AFBB74PfOh+KGotb2cktlb7rmwj1Hy1VwRD5Mry9TnIeIKOON4yDXoOraPZa3Zi21GOR41kWRDFM8Toy9CroQwP0PqKpQ+EtFtBbPa6dH5llZPY23mOxCwtglDknIJUcnJ/M1PR/1sv89yla/wDX9bbFTwjrOr6lcajba4bJ5LUwsj2cTxqVkjD4IZm5GcZzzjOBnA6WuW8EeGLjw7HqEl3FDbveSoy28N7NdrEiIEA82UBm6HjAAGAOldTVPfQhXtqFFFFIYUUUUAFQT31rbXFvBc3MMM1yxSCOSQK0rAEkKDyxABOB2FT1558Sru6svFnge4sNPl1K4TUZ9lrDIiNJ/o0g4ZyFGBzye1HUOjO8gvbW6mnitbmGaS2fy50jkDGJsA7WA+6cEHB7EVPXiFt4xvtF/wCEpuZba40e+1TxPBZlDELuW1DW8ZZgsW8O2xSQBuGSMjqK9E+HutajrWg3TaqbmWS1vZbeK6urNrV7qIYKSGNlXBIbBwoGQeBTSur+S/JP9Qej/rz/AMjq6KKKQBRRRQAUUUUAFFFFABVbUdTsdIsXvdWvbextY8b57mVY0XJwMsxAHJxVmuE+MbmP4du4iacrqFkfKTG5/wDSY/lGSBk9OSBR1S9BnY6bqun6xZrd6RfW1/bMSBNazLKhP+8pIp899a21xbwXNzDDNcsUgjkkCtKwBJCg8sQATgdhXjI8UyaNNr+sWsU2iXGsa3a6Y1kLXz5rErHl5miQMGkZOQF3A/L15FWrLWtR1rxB4LbVTcyyWuvXlvFdXVm1q91ELVykhjZVwSGwcKBkHgVUVzPT+tv80J6b+f6/5M9c+3Wn2/7D9qh+1+V532fzB5nl5xv29dueM9M0Wd7a6jaJdafcw3VvJnZNBIHRsHBwRweQRXHH/kvL/wDYtD/0oNN+Es8Vt8INLnuHEcUSTu7t0VRK5JqE/d5n/WrX6A/icfT8Un+p11tq+m3t9c2VnqFrcXdqQLi3inVpIc9Nyg5X8auV4d4E1S303UpdY1aF4EsEaKwiSPFxqMN9dBo7hgSBjO0YzkHcTjgV6P4v1q+0HWfDlzHceXpk949rfRlFIIaJjG2SMjDqBwRndzVPRJv+v60/IOrsdVTZZY4IXlmdY40Us7ucBQOpJ7CvINX8a6vp/wAMbHxBceKJbXV5rSXUIdPSwjlFwhbciyARlkQIVUuCvqWrTv8AXdc1PxRrkMWp/Z9Ls/DsN+LMW0T+ZJIsvDF1JK/KMj2HQZypXim+1/w/4Ya1aXf/ADS/U9KgnhureO4tZUmhlUPHJGwZXU8ggjgj3qSvHdc8Z3Xh/wCGeg6vaeITa38ekW91/ZNvp8bx3Iwu4uFjJiQjIBBRQfyp3iHxb4rtrzxhqVhrKwWPh6azeGxNpGwmWSNGdGcjcB8xII5BPXHFW42k152/GxMXeKfc9gyM4zz6UV49ZL4isPE3xJ1HRtTu767tzC0Nm0ELK7NArLwEBJQEhQCN2Ock5r0TwbfR6l4XtruHW5dcSXJF3NEkT9eUZEVQpU5BGARjmoWqv6fiFzdooooGFFFFABRRRQAUUUUAFFFFABTJZo4IXlnkWKNAWd3YBVA7knpT6ZPBFcwPBcxJNFIpV45FDKwPUEHqKAKul6zpmt2pudF1G01GAMVMtpOsqg+mVJGasTXVvbywx3E8UUlw+yFXcKZGwTtUHqcAnA7A1xXg22hn+IXizVdKiSHTCbexXylCpNPEG8xwBwcb1TP+yR2rSl/4mvxOhj5MOiWJlbjjzpztX8QiP/33T7ef+Vw2v5G9qOqWGkWbXerX1tY2ykAzXMyxoCeg3MQKsqwZQykEEZBHevLvGc4X4lNqF7qV4NP8N6M2pPaRxwsjSO5UL80ZOWVGGc5GflK5OaWueKfF2iyaxJNrGbiDw8Ls2iW8XlW13NJshVCU3NjDZ3Eg+g6Ulqr+v4X/ADt+Q3o7en42/wA0ev0VwfhjWNatfGmqaV4m1qG7igs7OQu0UcCxXMxcGJMckHaMBiTk9a7ym1YlO4UUUUhhRRRQAUUUUAFYet+HP7Y1/QNT+1eT/Y9zJP5fl7vO3xNHjORtxuznB6VuUUAcTd/DoXL6zMmqtDdX2qxaraTrAD9kljjRAME/ODtOemQxHvXU6TBqVtp6x61fQX93uJaaC2MCEdgELtj8zV2ijZW/rt+gbu4UUUUAFFFFABRRRQAUUUUAFYni7w5/wlOgjTftX2X/AEmC48zy9/8AqpVkxjI67cZzxnvW3RR1uBxWr/DsalrOqalBqrWk15NaXduVgDfZrmAECTk/MGUhSuBwDzzwus+DvEOsJol0/iWzi1bSLqS4W5GlExSB42Tb5XnZGAx53Gu0oo2A4zUPBmt3d3Y6tbeJYrTXIbV7O5u104NFcRM27AiMnysCBg7j34Oa2tM8Lafpfg2LwzGHlsUtTbMZD80isCGJPqck/jWzRQ9U10/r/MFo7nnC/C2/e40OW78SR3B8POn9nFtNUMY1I+SY7/3nCjBGzDANgkV03jrwmnjbwhdaG941i0xR47lE3NEysGBAyPTHUda6Gim3ff1BaO6OC8SfDSTV2uBpOtf2ZFd6QNIuI2tBMDEudpT5l2Ebjnrkeh5rQj8DeXqGq3X9o5/tHR4dL2+R/q/LDjzM7uc7/u8Yx1rraKT1TT6/8H/NgtLW6f8AA/yR5lqHwhuLjR5NPsfEn2WO60a30q8LWIkMghB2OnzjZnccjnPYg81qal8N/wC0LDxXbf2r5f8AwkXkfN9mz9n8pFTpu+bO3PbGe9dzRVOTbu/66gtLW6HJr4R1Ow8Sazquh63DajVooi8M9j53lzRqEDg+YuVKjBX8citHwt4ebw7p1xFNdi8ury6ku7mZYvKVpHPO1MnaOBxk+5NbdFTsAUUUUAFFFFABRRRQAUUUUAFFFFABVDXLK81HQryz0u//ALNu54jHFd+V5nkk8bguRkj61fopNJqzGnZ3OY8FeGtX8LaamnX+sWd/ZQRBLeO3042zKc8szGV9xPU9Ocmr2gaPPp1zq13fPG9zqN605MbEhYwoSNeQOiqCR6k9etbNFVdt3JtZWOQ1jwEusP4mebUDHJrkEEEbrDzbLECV7/P8zFu3XHvWfJ8Mp7u5v7rUdeNzcajc2M1y/wBl2grbPv8ALUb/AJVY/XH+0TXf0UJtO6/qw3qcFr2izaFJqGrR37vNrGu6ax2KYzFGskUfl5BO4EBien3iMVD8Pri7bWnFxf3t0t1YtO63Ny8oVxcyoCoYkINoAwuBwO9eh0ULRJf1tb9Liev9ed/+AFFFFIYUUUUAFFFFABWVqniG10nV9I065jmabVp3ggaNQVVljZyWyQQMKegPNatcR41/5H7wF/2Erj/0lkprV2Do/mdvXO6v4yttM1tdItNN1HV78RrLNDp8St9njY4DSM7KBnBwMknB4rg/H2na14q+IWoaJp+nWl2bbRo5bGS6vmt/sczyOPtCBY23OCqjtjHXk1vfD0zReMfGVtqrIdU+02skuD96M2yAEeq7lf8AWiOuv9b2CWmn9bX/AK/q/oFFeIX5AsNbB4P/AAsG14/4HBVS00y2tZE8QQKy6ovj2S1W43nKwvOVeMc4CkEkjueacVzcvnb8eX/5L8Al7qb7X/Dm/wDkfxPeqKKKkAooooAKKKKACszxBr9n4b0lr/UPNZN6xRxQpvkmkY7VRF7sScVp1j+KPDkPijRDYzTyWsqSpPbXMWN8EyHcjjPBwR0PUcUhox774hrp1ppr3PhjXlu9SuXtrew8qDzyyIXJP73btwD/ABdq0rPxZb3WuWGkT6ffWV9e2Ul6sVyiDykR1Qq+1z82WHTIx3rzPUdZ17xFrnhaxe6tLLXdL1+6sJL1bYzQSMtqzeYI9y9Vbld3Bz6V1SxXcPxn0GPUbmO6ul8PXQlnjh8pXbzouQmTt+mTWkUm153/APSW0S9F/X81joZfGOnw3HiKFobkt4ehWe6IVcOrRmQbPm5OB3xzWrpmoRatpNpqNurrDdwJOiyABgrKCAcE8815pqTLDq3xZ81gmdMhcbjj5fsrjP0yCK7zwejR+B9DSQFWXT4AQex8taiOqfy/G/8AkOWjXz/Dl/zNmiiigAooooAKKKKACiiigAooooAKKKKACiiigAooooAKKKKACorq5isrOa5uGKxQoZHIUsQoGTwOT+FS0UAYXhXxbZeLrW9n0+2vLYWd01rIl5D5TllVWztzkDDDrg+1Xr7WILHVNOsJElkn1B3SMRgEIEQszNkjC8AcZ5YVy/w5/wCP/wAZ/wDYxT/+i4qv2X/E0+Jeo3XDQ6PaJZRn0llxJJ/46IfzNPR8vmk/wv8AmLv5Nr8bGhrviS30OS1t/st1qF9eFhb2VmqtLIFGWb5mVQoBGSSByB1IFa6nKgkFSR0PavJPGv2CHx/r2vnSrK6vNA0GE28k9urEXMsreW2SOq7Bg9RuPrXP+JtKs7DUPEtvYMJdQg0G20y5vD80txdXs20s7dScBSB2BwMCiKbS87/rb79PvRT39Lfp/n+DPfKK8w8L2un+FfiF4gWxV1tIINNsJSZRmW5ct+8dnYbmw8eTksegB4FehWGtaXqs08Wl6lZ3sluQJkt51kMRPQMATjoetDXYn1LtFFFIYUUUUAFFFFABWN4i8J6N4qS1XW7eWU2chlgaG6lgaNiCpIaNlPQkda2aKAObuPAHh26t7KKa1uSbFGSCZb+4WZVY5KmUOHZSezEiptZ8FaBr19BeanZM11bp5aTw3EsMhTOdrNGyllz2bIreoouBzN58O/C2oa42r3elh71p47guJ5VXzYyNkmwMF3DaBnGSODkcVaHg3QRb+QLH91/aP9qbfOk/4+d27zPvf3udv3fatyihabf1/Vl9wb/1/XdhRRRQAUUUUAFFFFABWfrehWHiHT/sWqxyvCHDjybiSFgw6EPGysOvrWhRQBy9z8OPCt1pNlpr6a0dtYStNb/Z7uaF0kYEM5dHDMSCckk5zTbz4beGL5bL7Ta3hexiaG3lXVLpJFRm3MpdZAzZIH3ieldVRQBzmpfD/wAM6vcW0+o6aZ5LaFYFY3Eo8yNfurJhv3oHo+7qfU10QAVQFAAAwAO1LRRcAooooAKKKKACiiigAooooAKKKKACiiigAooooAKKKKACiiigAooooAo6bo1hpMl6+nweS19ctdXB3s2+VgAW5Jxwo4GBxSaVpEGkLdCB5JGu7qS6leUgsXY9OAOAAFHsB1q/RQBkXXhbRr1dVF3ZLKNYRUvg0jHzVVdqjr8uB/dx69apw+AfDVurLFpuN00E7kzyMXkhO6NmJbLEE55znvmujooWmwb7nK+IPC0ZtZJNEs83V5rFnfXh837/AJcse5vmOBhE6D04GTVTwb4e1HSNUjmvbQQJ9geJiHU/ObmRwOD/AHWBz7+tdrRRtb+ulvyB6/153CiiigAooooAKKKKAP/Z)"
      ]
    },
    {
      "cell_type": "code",
      "metadata": {
        "colab": {
          "base_uri": "https://localhost:8080/"
        },
        "id": "svBTWacw0nBB",
        "outputId": "dbfeb377-6402-4798-8bb2-c5b007495a0f"
      },
      "source": [
        "#relu + he_normal\n",
        "activation = tf.keras.activations.relu\n",
        "initializer = tf.keras.initializers.he_normal\n",
        "\n",
        "model = tf.keras.Sequential([\n",
        "tf.keras.layers.Flatten(input_shape=(28, 28)),\n",
        "tf.keras.layers.Dense(300, activation=activation, kernel_initializer=initializer),\n",
        "tf.keras.layers.Dense(10,kernel_initializer=initializer)\n",
        "])\n",
        "\n",
        "model.compile(optimizer='adam',loss=tf.keras.losses.SparseCategoricalCrossentropy(from_logits=True),metrics=['accuracy'])\n",
        "model.summary()# model summary\n",
        "\n",
        "with mlflow.start_run():\n",
        "    model.fit(train_images, train_labels, epochs=10)\n",
        "    test_loss, test_acc = model.evaluate(test_images,  test_labels, verbose=2)\n",
        "\n",
        "    print('test_loss', test_loss)\n",
        "    print('test_accuracy', test_acc)\n",
        "\n",
        "    mlflow.tensorflow.mlflow.log_metric('test_loss', test_loss)\n",
        "    mlflow.tensorflow.mlflow.log_metric('test_acc', test_acc)  \n",
        "    mlflow.tensorflow.mlflow.log_param('activation', activation)\n",
        "    mlflow.tensorflow.mlflow.log_param('initializer',model.layers[1].kernel_initializer)\n",
        "\n",
        "del model"
      ],
      "execution_count": 8,
      "outputs": [
        {
          "output_type": "stream",
          "text": [
            "Model: \"sequential_5\"\n",
            "_________________________________________________________________\n",
            "Layer (type)                 Output Shape              Param #   \n",
            "=================================================================\n",
            "flatten_5 (Flatten)          (None, 784)               0         \n",
            "_________________________________________________________________\n",
            "dense_10 (Dense)             (None, 300)               235500    \n",
            "_________________________________________________________________\n",
            "dense_11 (Dense)             (None, 10)                3010      \n",
            "=================================================================\n",
            "Total params: 238,510\n",
            "Trainable params: 238,510\n",
            "Non-trainable params: 0\n",
            "_________________________________________________________________\n",
            "Epoch 1/10\n",
            "   5/1875 [..............................] - ETA: 23s - loss: 2.1147 - accuracy: 0.2375 WARNING:tensorflow:Callback method `on_train_batch_end` is slow compared to the batch time (batch time: 0.0036s vs `on_train_batch_end` time: 0.0067s). Check your callbacks.\n",
            "1875/1875 [==============================] - 6s 3ms/step - loss: 0.4787 - accuracy: 0.8292\n",
            "Epoch 2/10\n",
            "1875/1875 [==============================] - 5s 3ms/step - loss: 0.3602 - accuracy: 0.8687\n",
            "Epoch 3/10\n",
            "1875/1875 [==============================] - 5s 3ms/step - loss: 0.3254 - accuracy: 0.8806\n",
            "Epoch 4/10\n",
            "1875/1875 [==============================] - 5s 3ms/step - loss: 0.3011 - accuracy: 0.8894\n",
            "Epoch 5/10\n",
            "1875/1875 [==============================] - 5s 3ms/step - loss: 0.2824 - accuracy: 0.8950\n",
            "Epoch 6/10\n",
            "1875/1875 [==============================] - 5s 3ms/step - loss: 0.2694 - accuracy: 0.8999\n",
            "Epoch 7/10\n",
            "1875/1875 [==============================] - 5s 3ms/step - loss: 0.2544 - accuracy: 0.9054\n",
            "Epoch 8/10\n",
            "1875/1875 [==============================] - 5s 3ms/step - loss: 0.2432 - accuracy: 0.9097\n",
            "Epoch 9/10\n",
            "1875/1875 [==============================] - 5s 3ms/step - loss: 0.2331 - accuracy: 0.9138\n",
            "Epoch 10/10\n",
            "1875/1875 [==============================] - 5s 3ms/step - loss: 0.2265 - accuracy: 0.9154\n",
            "INFO:tensorflow:Assets written to: /tmp/tmpz2ey4wzm/model/data/model/assets\n",
            "313/313 - 0s - loss: 0.3303 - accuracy: 0.8904\n",
            "test_loss 0.33028656244277954\n",
            "test_accuracy 0.8903999924659729\n"
          ],
          "name": "stdout"
        }
      ]
    },
    {
      "cell_type": "code",
      "metadata": {
        "id": "TmlKjyh001vX",
        "colab": {
          "base_uri": "https://localhost:8080/"
        },
        "outputId": "1d61d2c0-d3c2-4695-ea68-0d59b9feee6e"
      },
      "source": [
        "#softmax+glorot_normal\n",
        "activation = tf.keras.activations.softmax\n",
        "initializer = tf.keras.initializers.glorot_normal\n",
        "\n",
        "model = tf.keras.Sequential([\n",
        "tf.keras.layers.Flatten(input_shape=(28, 28)),\n",
        "tf.keras.layers.Dense(128, activation=activation, kernel_initializer=initializer),\n",
        "tf.keras.layers.Dense(10,kernel_initializer=initializer)\n",
        "])\n",
        "\n",
        "model.compile(optimizer='adam',loss=tf.keras.losses.SparseCategoricalCrossentropy(from_logits=True),metrics=['accuracy'])\n",
        "model.summary()# model summary\n",
        "\n",
        "with mlflow.start_run():\n",
        "    model.fit(train_images, train_labels, epochs=10)\n",
        "    test_loss, test_acc = model.evaluate(test_images,  test_labels, verbose=2)\n",
        "\n",
        "    print('test_loss', test_loss)\n",
        "    print('test_accuracy', test_acc)\n",
        "\n",
        "    mlflow.tensorflow.mlflow.log_metric('test_loss', test_loss)\n",
        "    mlflow.tensorflow.mlflow.log_metric('test_acc', test_acc)  \n",
        "    mlflow.tensorflow.mlflow.log_param('activation', activation)\n",
        "    mlflow.tensorflow.mlflow.log_param('initializer',model.layers[1].kernel_initializer)\n",
        "    \n",
        "del model"
      ],
      "execution_count": 9,
      "outputs": [
        {
          "output_type": "stream",
          "text": [
            "Model: \"sequential_6\"\n",
            "_________________________________________________________________\n",
            "Layer (type)                 Output Shape              Param #   \n",
            "=================================================================\n",
            "flatten_6 (Flatten)          (None, 784)               0         \n",
            "_________________________________________________________________\n",
            "dense_12 (Dense)             (None, 128)               100480    \n",
            "_________________________________________________________________\n",
            "dense_13 (Dense)             (None, 10)                1290      \n",
            "=================================================================\n",
            "Total params: 101,770\n",
            "Trainable params: 101,770\n",
            "Non-trainable params: 0\n",
            "_________________________________________________________________\n",
            "Epoch 1/10\n",
            "   5/1875 [..............................] - ETA: 24s - loss: 2.2992 - accuracy: 0.1250 WARNING:tensorflow:Callback method `on_train_batch_end` is slow compared to the batch time (batch time: 0.0023s vs `on_train_batch_end` time: 0.0077s). Check your callbacks.\n",
            "1875/1875 [==============================] - 4s 2ms/step - loss: 1.3178 - accuracy: 0.7123\n",
            "Epoch 2/10\n",
            "1875/1875 [==============================] - 4s 2ms/step - loss: 0.7153 - accuracy: 0.7508\n",
            "Epoch 3/10\n",
            "1875/1875 [==============================] - 4s 2ms/step - loss: 0.6066 - accuracy: 0.7571\n",
            "Epoch 4/10\n",
            "1875/1875 [==============================] - 4s 2ms/step - loss: 0.5714 - accuracy: 0.7602\n",
            "Epoch 5/10\n",
            "1875/1875 [==============================] - 4s 2ms/step - loss: 0.5544 - accuracy: 0.7652\n",
            "Epoch 6/10\n",
            "1875/1875 [==============================] - 4s 2ms/step - loss: 0.5422 - accuracy: 0.7694\n",
            "Epoch 7/10\n",
            "1875/1875 [==============================] - 4s 2ms/step - loss: 0.5321 - accuracy: 0.7761\n",
            "Epoch 8/10\n",
            "1875/1875 [==============================] - 4s 2ms/step - loss: 0.5044 - accuracy: 0.8131\n",
            "Epoch 9/10\n",
            "1875/1875 [==============================] - 4s 2ms/step - loss: 0.4611 - accuracy: 0.8370\n",
            "Epoch 10/10\n",
            "1875/1875 [==============================] - 4s 2ms/step - loss: 0.4431 - accuracy: 0.8454\n",
            "INFO:tensorflow:Assets written to: /tmp/tmp6z99_i1s/model/data/model/assets\n",
            "313/313 - 0s - loss: 0.4857 - accuracy: 0.8318\n",
            "test_loss 0.4857023358345032\n",
            "test_accuracy 0.8317999839782715\n"
          ],
          "name": "stdout"
        }
      ]
    },
    {
      "cell_type": "code",
      "metadata": {
        "colab": {
          "base_uri": "https://localhost:8080/"
        },
        "id": "gGK2Lbvk28Dn",
        "outputId": "1fe7ae59-f279-4c20-da1a-b6b22e3fdd5e"
      },
      "source": [
        "#sigmoid + glorot_mormal\n",
        "initializer = tf.keras.initializers.glorot_normal\n",
        "activation = tf.keras.activations.sigmoid\n",
        "\n",
        "model = tf.keras.Sequential([\n",
        "tf.keras.layers.Flatten(input_shape=(28, 28)),\n",
        "tf.keras.layers.Dense(128, activation=activation, kernel_initializer=initializer),\n",
        "tf.keras.layers.Dense(10,kernel_initializer=initializer)\n",
        "])\n",
        "\n",
        "model.compile(optimizer='adam',loss=tf.keras.losses.SparseCategoricalCrossentropy(from_logits=True),metrics=['accuracy'])\n",
        "model.summary()# model summary\n",
        "\n",
        "with mlflow.start_run():\n",
        "    model.fit(train_images, train_labels, epochs=10)\n",
        "    test_loss, test_acc = model.evaluate(test_images,  test_labels, verbose=2)\n",
        "\n",
        "    print('test_loss', test_loss)\n",
        "    print('test_accuracy', test_acc)\n",
        "\n",
        "    mlflow.tensorflow.mlflow.log_metric('test_loss', test_loss)\n",
        "    mlflow.tensorflow.mlflow.log_metric('test_acc', test_acc)  \n",
        "    mlflow.tensorflow.mlflow.log_param('activation', activation)\n",
        "    mlflow.tensorflow.mlflow.log_param('initializer',model.layers[1].kernel_initializer)\n",
        "    \n",
        "del model"
      ],
      "execution_count": 10,
      "outputs": [
        {
          "output_type": "stream",
          "text": [
            "Model: \"sequential_7\"\n",
            "_________________________________________________________________\n",
            "Layer (type)                 Output Shape              Param #   \n",
            "=================================================================\n",
            "flatten_7 (Flatten)          (None, 784)               0         \n",
            "_________________________________________________________________\n",
            "dense_14 (Dense)             (None, 128)               100480    \n",
            "_________________________________________________________________\n",
            "dense_15 (Dense)             (None, 10)                1290      \n",
            "=================================================================\n",
            "Total params: 101,770\n",
            "Trainable params: 101,770\n",
            "Non-trainable params: 0\n",
            "_________________________________________________________________\n",
            "Epoch 1/10\n",
            "   5/1875 [..............................] - ETA: 23s - loss: 2.2732 - accuracy: 0.1500 WARNING:tensorflow:Callback method `on_train_batch_end` is slow compared to the batch time (batch time: 0.0022s vs `on_train_batch_end` time: 0.0076s). Check your callbacks.\n",
            "1875/1875 [==============================] - 4s 2ms/step - loss: 0.5425 - accuracy: 0.8139\n",
            "Epoch 2/10\n",
            "1875/1875 [==============================] - 4s 2ms/step - loss: 0.3923 - accuracy: 0.8591\n",
            "Epoch 3/10\n",
            "1875/1875 [==============================] - 4s 2ms/step - loss: 0.3552 - accuracy: 0.8713\n",
            "Epoch 4/10\n",
            "1875/1875 [==============================] - 4s 2ms/step - loss: 0.3316 - accuracy: 0.8795\n",
            "Epoch 5/10\n",
            "1875/1875 [==============================] - 4s 2ms/step - loss: 0.3126 - accuracy: 0.8863\n",
            "Epoch 6/10\n",
            "1875/1875 [==============================] - 4s 2ms/step - loss: 0.2974 - accuracy: 0.8911\n",
            "Epoch 7/10\n",
            "1875/1875 [==============================] - 4s 2ms/step - loss: 0.2853 - accuracy: 0.8945\n",
            "Epoch 8/10\n",
            "1875/1875 [==============================] - 4s 2ms/step - loss: 0.2726 - accuracy: 0.8997\n",
            "Epoch 9/10\n",
            "1875/1875 [==============================] - 4s 2ms/step - loss: 0.2621 - accuracy: 0.9035\n",
            "Epoch 10/10\n",
            "1875/1875 [==============================] - 4s 2ms/step - loss: 0.2529 - accuracy: 0.9061\n",
            "INFO:tensorflow:Assets written to: /tmp/tmpveun__1l/model/data/model/assets\n",
            "313/313 - 0s - loss: 0.3291 - accuracy: 0.8799\n",
            "test_loss 0.3291061520576477\n",
            "test_accuracy 0.8798999786376953\n"
          ],
          "name": "stdout"
        }
      ]
    },
    {
      "cell_type": "code",
      "metadata": {
        "colab": {
          "base_uri": "https://localhost:8080/"
        },
        "id": "Nwp8-sMM3EdC",
        "outputId": "25ae1456-9479-4347-c044-1dc04d322998"
      },
      "source": [
        "#tanh + glorot_normal\n",
        "initializer = tf.keras.initializers.glorot_normal\n",
        "activation = tf.keras.activations.tanh\n",
        "\n",
        "model = tf.keras.Sequential([\n",
        "tf.keras.layers.Flatten(input_shape=(28, 28)),\n",
        "tf.keras.layers.Dense(300, activation=activation, kernel_initializer=initializer),\n",
        "tf.keras.layers.Dense(10,kernel_initializer=initializer)\n",
        "])\n",
        "\n",
        "model.compile(optimizer='adam',loss=tf.keras.losses.SparseCategoricalCrossentropy(from_logits=True),metrics=['accuracy'])\n",
        "model.summary()# model summary\n",
        "\n",
        "with mlflow.start_run():\n",
        "    model.fit(train_images, train_labels, epochs=10)\n",
        "    test_loss, test_acc = model.evaluate(test_images,  test_labels, verbose=2)\n",
        "\n",
        "    print('test_loss', test_loss)\n",
        "    print('test_accuracy', test_acc)\n",
        "\n",
        "    mlflow.tensorflow.mlflow.log_metric('test_loss', test_loss)\n",
        "    mlflow.tensorflow.mlflow.log_metric('test_acc', test_acc)  \n",
        "    mlflow.tensorflow.mlflow.log_param('activation', activation)\n",
        "    mlflow.tensorflow.mlflow.log_param('initializer',model.layers[1].kernel_initializer)\n",
        "    \n",
        "del model"
      ],
      "execution_count": 11,
      "outputs": [
        {
          "output_type": "stream",
          "text": [
            "Model: \"sequential_8\"\n",
            "_________________________________________________________________\n",
            "Layer (type)                 Output Shape              Param #   \n",
            "=================================================================\n",
            "flatten_8 (Flatten)          (None, 784)               0         \n",
            "_________________________________________________________________\n",
            "dense_16 (Dense)             (None, 300)               235500    \n",
            "_________________________________________________________________\n",
            "dense_17 (Dense)             (None, 10)                3010      \n",
            "=================================================================\n",
            "Total params: 238,510\n",
            "Trainable params: 238,510\n",
            "Non-trainable params: 0\n",
            "_________________________________________________________________\n",
            "Epoch 1/10\n",
            "   3/1875 [..............................] - ETA: 1:02 - loss: 2.4631 - accuracy: 0.1562WARNING:tensorflow:Callback method `on_train_batch_end` is slow compared to the batch time (batch time: 0.0032s vs `on_train_batch_end` time: 0.0106s). Check your callbacks.\n",
            "1875/1875 [==============================] - 5s 3ms/step - loss: 0.4702 - accuracy: 0.8304\n",
            "Epoch 2/10\n",
            "1875/1875 [==============================] - 5s 3ms/step - loss: 0.3680 - accuracy: 0.8655\n",
            "Epoch 3/10\n",
            "1875/1875 [==============================] - 5s 3ms/step - loss: 0.3308 - accuracy: 0.8781\n",
            "Epoch 4/10\n",
            "1875/1875 [==============================] - 5s 3ms/step - loss: 0.3072 - accuracy: 0.8860\n",
            "Epoch 5/10\n",
            "1875/1875 [==============================] - 5s 3ms/step - loss: 0.2931 - accuracy: 0.8896\n",
            "Epoch 6/10\n",
            "1875/1875 [==============================] - 5s 3ms/step - loss: 0.2782 - accuracy: 0.8955\n",
            "Epoch 7/10\n",
            "1875/1875 [==============================] - 5s 3ms/step - loss: 0.2650 - accuracy: 0.8999\n",
            "Epoch 8/10\n",
            "1875/1875 [==============================] - 5s 3ms/step - loss: 0.2553 - accuracy: 0.9045\n",
            "Epoch 9/10\n",
            "1875/1875 [==============================] - 5s 3ms/step - loss: 0.2485 - accuracy: 0.9062\n",
            "Epoch 10/10\n",
            "1875/1875 [==============================] - 5s 3ms/step - loss: 0.2385 - accuracy: 0.9102\n",
            "INFO:tensorflow:Assets written to: /tmp/tmp8rht5rf1/model/data/model/assets\n",
            "313/313 - 0s - loss: 0.3294 - accuracy: 0.8800\n",
            "test_loss 0.3294133245944977\n",
            "test_accuracy 0.8799999952316284\n"
          ],
          "name": "stdout"
        }
      ]
    }
  ]
}